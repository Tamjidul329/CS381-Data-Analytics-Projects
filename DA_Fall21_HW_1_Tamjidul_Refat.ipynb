{
 "cells": [
  {
   "cell_type": "markdown",
   "metadata": {},
   "source": [
    "## DA_Fall21_HW_1 Due at Mid-night 10/19/2021"
   ]
  },
  {
   "cell_type": "markdown",
   "metadata": {},
   "source": [
    "### This homework will cover the following skills set\n",
    "* Using sql \n",
    "* Checking for null values and outliers\n",
    "* Calculate simple statistics using both SQL and Pandas \n",
    "* Calculate skew and correlation\n",
    "* Basic Data Visualization\n",
    "* How to fix missing values"
   ]
  },
  {
   "cell_type": "markdown",
   "metadata": {},
   "source": [
    "## Late Policy: Take off 50% after one day, 80% after two days"
   ]
  },
  {
   "cell_type": "markdown",
   "metadata": {},
   "source": [
    "**Make sure you have pandasql installed. If not, make sure you run the code in the following cell**"
   ]
  },
  {
   "cell_type": "code",
   "execution_count": 22,
   "metadata": {},
   "outputs": [],
   "source": [
    "import os\n",
    "try:\n",
    "    import pandasql as ps\n",
    "except:\n",
    "    print(\"Failed in import pandasql\")\n",
    "    os.system(\"pip install pandasql\")"
   ]
  },
  {
   "cell_type": "markdown",
   "metadata": {},
   "source": [
    "**Import all standard libaries**"
   ]
  },
  {
   "cell_type": "code",
   "execution_count": 23,
   "metadata": {},
   "outputs": [],
   "source": [
    "import pandas as pd\n",
    "import pandasql as ps\n",
    "import numpy as np\n",
    "import matplotlib.pyplot as plt\n",
    "import seaborn as sns"
   ]
  },
  {
   "cell_type": "markdown",
   "metadata": {},
   "source": [
    "## Loading Car Crashes dataset ##"
   ]
  },
  {
   "cell_type": "code",
   "execution_count": 24,
   "metadata": {},
   "outputs": [
    {
     "name": "stdout",
     "output_type": "stream",
     "text": [
      "(54, 10)\n"
     ]
    },
    {
     "data": {
      "text/html": [
       "<div>\n",
       "<style scoped>\n",
       "    .dataframe tbody tr th:only-of-type {\n",
       "        vertical-align: middle;\n",
       "    }\n",
       "\n",
       "    .dataframe tbody tr th {\n",
       "        vertical-align: top;\n",
       "    }\n",
       "\n",
       "    .dataframe thead th {\n",
       "        text-align: right;\n",
       "    }\n",
       "</style>\n",
       "<table border=\"1\" class=\"dataframe\">\n",
       "  <thead>\n",
       "    <tr style=\"text-align: right;\">\n",
       "      <th></th>\n",
       "      <th>accidents</th>\n",
       "      <th>speeding</th>\n",
       "      <th>alcohol</th>\n",
       "      <th>not_distracted</th>\n",
       "      <th>no_previous</th>\n",
       "      <th>ins_premium</th>\n",
       "      <th>ins_losses</th>\n",
       "      <th>state</th>\n",
       "      <th>region</th>\n",
       "      <th>division</th>\n",
       "    </tr>\n",
       "  </thead>\n",
       "  <tbody>\n",
       "    <tr>\n",
       "      <th>0</th>\n",
       "      <td>18.8</td>\n",
       "      <td>7.332</td>\n",
       "      <td>5.640</td>\n",
       "      <td>18.048</td>\n",
       "      <td>15.040</td>\n",
       "      <td>784.55</td>\n",
       "      <td>145.08</td>\n",
       "      <td>AL</td>\n",
       "      <td>South</td>\n",
       "      <td>East South Central</td>\n",
       "    </tr>\n",
       "    <tr>\n",
       "      <th>1</th>\n",
       "      <td>18.1</td>\n",
       "      <td>7.421</td>\n",
       "      <td>4.525</td>\n",
       "      <td>16.290</td>\n",
       "      <td>17.014</td>\n",
       "      <td>1053.48</td>\n",
       "      <td>133.93</td>\n",
       "      <td>AK</td>\n",
       "      <td>West</td>\n",
       "      <td>Pacific</td>\n",
       "    </tr>\n",
       "    <tr>\n",
       "      <th>2</th>\n",
       "      <td>18.6</td>\n",
       "      <td>6.510</td>\n",
       "      <td>5.208</td>\n",
       "      <td>15.624</td>\n",
       "      <td>17.856</td>\n",
       "      <td>899.47</td>\n",
       "      <td>110.35</td>\n",
       "      <td>AZ</td>\n",
       "      <td>West</td>\n",
       "      <td>Mountain</td>\n",
       "    </tr>\n",
       "    <tr>\n",
       "      <th>3</th>\n",
       "      <td>22.4</td>\n",
       "      <td>4.032</td>\n",
       "      <td>5.824</td>\n",
       "      <td>21.056</td>\n",
       "      <td>21.280</td>\n",
       "      <td>827.34</td>\n",
       "      <td>142.39</td>\n",
       "      <td>AR</td>\n",
       "      <td>South</td>\n",
       "      <td>West South Central</td>\n",
       "    </tr>\n",
       "    <tr>\n",
       "      <th>4</th>\n",
       "      <td>12.0</td>\n",
       "      <td>4.200</td>\n",
       "      <td>3.360</td>\n",
       "      <td>10.920</td>\n",
       "      <td>10.680</td>\n",
       "      <td>878.41</td>\n",
       "      <td>165.63</td>\n",
       "      <td>CA</td>\n",
       "      <td>West</td>\n",
       "      <td>Pacific</td>\n",
       "    </tr>\n",
       "  </tbody>\n",
       "</table>\n",
       "</div>"
      ],
      "text/plain": [
       "   accidents  speeding  alcohol  not_distracted  no_previous  ins_premium  \\\n",
       "0       18.8     7.332    5.640          18.048       15.040       784.55   \n",
       "1       18.1     7.421    4.525          16.290       17.014      1053.48   \n",
       "2       18.6     6.510    5.208          15.624       17.856       899.47   \n",
       "3       22.4     4.032    5.824          21.056       21.280       827.34   \n",
       "4       12.0     4.200    3.360          10.920       10.680       878.41   \n",
       "\n",
       "   ins_losses state region            division  \n",
       "0      145.08    AL  South  East South Central  \n",
       "1      133.93    AK   West             Pacific  \n",
       "2      110.35    AZ   West            Mountain  \n",
       "3      142.39    AR  South  West South Central  \n",
       "4      165.63    CA   West             Pacific  "
      ]
     },
     "execution_count": 24,
     "metadata": {},
     "output_type": "execute_result"
    }
   ],
   "source": [
    "crash = pd.read_csv(\"car_crashes2.csv\")\n",
    "print(crash.shape)\n",
    "crash.head()"
   ]
  },
  {
   "cell_type": "markdown",
   "metadata": {},
   "source": [
    "* accidents is the total number of crashes for each state\n",
    "* speeding is the average speeding in each state"
   ]
  },
  {
   "cell_type": "code",
   "execution_count": 8,
   "metadata": {},
   "outputs": [
    {
     "data": {
      "text/html": [
       "<div>\n",
       "<style scoped>\n",
       "    .dataframe tbody tr th:only-of-type {\n",
       "        vertical-align: middle;\n",
       "    }\n",
       "\n",
       "    .dataframe tbody tr th {\n",
       "        vertical-align: top;\n",
       "    }\n",
       "\n",
       "    .dataframe thead th {\n",
       "        text-align: right;\n",
       "    }\n",
       "</style>\n",
       "<table border=\"1\" class=\"dataframe\">\n",
       "  <thead>\n",
       "    <tr style=\"text-align: right;\">\n",
       "      <th></th>\n",
       "      <th>accidents</th>\n",
       "      <th>speeding</th>\n",
       "      <th>alcohol</th>\n",
       "      <th>not_distracted</th>\n",
       "      <th>no_previous</th>\n",
       "      <th>ins_premium</th>\n",
       "      <th>ins_losses</th>\n",
       "    </tr>\n",
       "  </thead>\n",
       "  <tbody>\n",
       "    <tr>\n",
       "      <th>count</th>\n",
       "      <td>54.000000</td>\n",
       "      <td>53.000000</td>\n",
       "      <td>54.000000</td>\n",
       "      <td>54.000000</td>\n",
       "      <td>54.000000</td>\n",
       "      <td>53.000000</td>\n",
       "      <td>54.000000</td>\n",
       "    </tr>\n",
       "    <tr>\n",
       "      <th>mean</th>\n",
       "      <td>15.668519</td>\n",
       "      <td>5.028755</td>\n",
       "      <td>5.506778</td>\n",
       "      <td>13.545407</td>\n",
       "      <td>13.931500</td>\n",
       "      <td>908.318113</td>\n",
       "      <td>133.967407</td>\n",
       "    </tr>\n",
       "    <tr>\n",
       "      <th>std</th>\n",
       "      <td>4.087386</td>\n",
       "      <td>2.000479</td>\n",
       "      <td>5.157681</td>\n",
       "      <td>4.463259</td>\n",
       "      <td>3.730217</td>\n",
       "      <td>232.237787</td>\n",
       "      <td>24.703393</td>\n",
       "    </tr>\n",
       "    <tr>\n",
       "      <th>min</th>\n",
       "      <td>5.900000</td>\n",
       "      <td>1.792000</td>\n",
       "      <td>1.593000</td>\n",
       "      <td>1.760000</td>\n",
       "      <td>5.900000</td>\n",
       "      <td>641.960000</td>\n",
       "      <td>82.750000</td>\n",
       "    </tr>\n",
       "    <tr>\n",
       "      <th>25%</th>\n",
       "      <td>12.725000</td>\n",
       "      <td>3.774000</td>\n",
       "      <td>3.891000</td>\n",
       "      <td>10.345000</td>\n",
       "      <td>11.262000</td>\n",
       "      <td>768.950000</td>\n",
       "      <td>112.332500</td>\n",
       "    </tr>\n",
       "    <tr>\n",
       "      <th>50%</th>\n",
       "      <td>15.450000</td>\n",
       "      <td>4.608000</td>\n",
       "      <td>4.542000</td>\n",
       "      <td>13.816000</td>\n",
       "      <td>13.717000</td>\n",
       "      <td>861.180000</td>\n",
       "      <td>135.840000</td>\n",
       "    </tr>\n",
       "    <tr>\n",
       "      <th>75%</th>\n",
       "      <td>18.350000</td>\n",
       "      <td>6.510000</td>\n",
       "      <td>5.622000</td>\n",
       "      <td>16.215000</td>\n",
       "      <td>16.579000</td>\n",
       "      <td>1011.140000</td>\n",
       "      <td>152.065000</td>\n",
       "    </tr>\n",
       "    <tr>\n",
       "      <th>max</th>\n",
       "      <td>23.900000</td>\n",
       "      <td>9.450000</td>\n",
       "      <td>40.642000</td>\n",
       "      <td>23.661000</td>\n",
       "      <td>21.280000</td>\n",
       "      <td>2000.030000</td>\n",
       "      <td>194.780000</td>\n",
       "    </tr>\n",
       "  </tbody>\n",
       "</table>\n",
       "</div>"
      ],
      "text/plain": [
       "       accidents   speeding    alcohol  not_distracted  no_previous  \\\n",
       "count  54.000000  53.000000  54.000000       54.000000    54.000000   \n",
       "mean   15.668519   5.028755   5.506778       13.545407    13.931500   \n",
       "std     4.087386   2.000479   5.157681        4.463259     3.730217   \n",
       "min     5.900000   1.792000   1.593000        1.760000     5.900000   \n",
       "25%    12.725000   3.774000   3.891000       10.345000    11.262000   \n",
       "50%    15.450000   4.608000   4.542000       13.816000    13.717000   \n",
       "75%    18.350000   6.510000   5.622000       16.215000    16.579000   \n",
       "max    23.900000   9.450000  40.642000       23.661000    21.280000   \n",
       "\n",
       "       ins_premium  ins_losses  \n",
       "count    53.000000   54.000000  \n",
       "mean    908.318113  133.967407  \n",
       "std     232.237787   24.703393  \n",
       "min     641.960000   82.750000  \n",
       "25%     768.950000  112.332500  \n",
       "50%     861.180000  135.840000  \n",
       "75%    1011.140000  152.065000  \n",
       "max    2000.030000  194.780000  "
      ]
     },
     "execution_count": 8,
     "metadata": {},
     "output_type": "execute_result"
    }
   ],
   "source": [
    "crash.describe()"
   ]
  },
  {
   "cell_type": "markdown",
   "metadata": {},
   "source": [
    "## Question 1. Check if there are any null or NA"
   ]
  },
  {
   "cell_type": "markdown",
   "metadata": {},
   "source": []
  },
  {
   "cell_type": "code",
   "execution_count": 13,
   "metadata": {},
   "outputs": [
    {
     "data": {
      "text/plain": [
       "accidents         False\n",
       "speeding           True\n",
       "alcohol           False\n",
       "not_distracted    False\n",
       "no_previous       False\n",
       "ins_premium        True\n",
       "ins_losses        False\n",
       "state             False\n",
       "region            False\n",
       "division          False\n",
       "dtype: bool"
      ]
     },
     "execution_count": 13,
     "metadata": {},
     "output_type": "execute_result"
    }
   ],
   "source": [
    "crash.isnull().any()"
   ]
  },
  {
   "cell_type": "markdown",
   "metadata": {},
   "source": [
    "## Question 2. Remove any rows that has null or NA"
   ]
  },
  {
   "cell_type": "markdown",
   "metadata": {},
   "source": [
    "**Type in your code here**"
   ]
  },
  {
   "cell_type": "code",
   "execution_count": 11,
   "metadata": {},
   "outputs": [],
   "source": [
    "df = pd.DataFrame(crash)\n",
    "df = df[df['speeding'].notna()]\n",
    "df = df[df['ins_premium'].notna()]"
   ]
  },
  {
   "cell_type": "code",
   "execution_count": 14,
   "metadata": {},
   "outputs": [
    {
     "data": {
      "text/plain": [
       "accidents         False\n",
       "speeding          False\n",
       "alcohol           False\n",
       "not_distracted    False\n",
       "no_previous       False\n",
       "ins_premium       False\n",
       "ins_losses        False\n",
       "state             False\n",
       "region            False\n",
       "division          False\n",
       "dtype: bool"
      ]
     },
     "execution_count": 14,
     "metadata": {},
     "output_type": "execute_result"
    }
   ],
   "source": [
    "df.isnull().any()"
   ]
  },
  {
   "cell_type": "markdown",
   "metadata": {},
   "source": [
    "## Question 3. Check if there is any outliers in all numerical fields using both scatter and boxplot"
   ]
  },
  {
   "cell_type": "markdown",
   "metadata": {},
   "source": [
    "**Type in your code here**"
   ]
  },
  {
   "cell_type": "code",
   "execution_count": 19,
   "metadata": {},
   "outputs": [
    {
     "data": {
      "text/plain": [
       "<AxesSubplot:xlabel='accidents', ylabel='alcohol'>"
      ]
     },
     "execution_count": 19,
     "metadata": {},
     "output_type": "execute_result"
    },
    {
     "data": {
      "image/png": "[encoded data removed]",
      "text/plain": [
       "<Figure size 432x288 with 1 Axes>"
      ]
     },
     "metadata": {
      "needs_background": "light"
     },
     "output_type": "display_data"
    }
   ],
   "source": [
    "sns.scatterplot(x = 'accidents', y = 'alcohol', data = df)"
   ]
  },
  {
   "cell_type": "code",
   "execution_count": 20,
   "metadata": {},
   "outputs": [
    {
     "data": {
      "text/plain": [
       "<AxesSubplot:xlabel='accidents', ylabel='speeding'>"
      ]
     },
     "execution_count": 20,
     "metadata": {},
     "output_type": "execute_result"
    },
    {
     "data": {
      "image/png": "[encoded data removed]",
      "text/plain": [
       "<Figure size 432x288 with 1 Axes>"
      ]
     },
     "metadata": {
      "needs_background": "light"
     },
     "output_type": "display_data"
    }
   ],
   "source": [
    "sns.scatterplot(x = 'accidents', y = 'speeding', data = df)"
   ]
  },
  {
   "cell_type": "code",
   "execution_count": 48,
   "metadata": {},
   "outputs": [
    {
     "data": {
      "text/plain": [
       "<AxesSubplot:xlabel='accidents', ylabel='not_distracted'>"
      ]
     },
     "execution_count": 48,
     "metadata": {},
     "output_type": "execute_result"
    },
    {
     "data": {
      "image/png": "[encoded data removed]",
      "text/plain": [
       "<Figure size 432x288 with 1 Axes>"
      ]
     },
     "metadata": {
      "needs_background": "light"
     },
     "output_type": "display_data"
    }
   ],
   "source": [
    "sns.scatterplot(x = 'accidents', y = 'not_distracted', data = df)"
   ]
  },
  {
   "cell_type": "code",
   "execution_count": 24,
   "metadata": {},
   "outputs": [
    {
     "data": {
      "text/plain": [
       "<AxesSubplot:xlabel='ins_premium', ylabel='ins_losses'>"
      ]
     },
     "execution_count": 24,
     "metadata": {},
     "output_type": "execute_result"
    },
    {
     "data": {
      "image/png": "[encoded data removed]",
      "text/plain": [
       "<Figure size 432x288 with 1 Axes>"
      ]
     },
     "metadata": {
      "needs_background": "light"
     },
     "output_type": "display_data"
    }
   ],
   "source": [
    "sns.scatterplot(x = 'ins_premium', y = 'ins_losses', data = df)"
   ]
  },
  {
   "cell_type": "code",
   "execution_count": 29,
   "metadata": {},
   "outputs": [
    {
     "data": {
      "text/plain": [
       "<AxesSubplot:xlabel='no_previous', ylabel='ins_premium'>"
      ]
     },
     "execution_count": 29,
     "metadata": {},
     "output_type": "execute_result"
    },
    {
     "data": {
      "image/png": "[encoded data removed]",
      "text/plain": [
       "<Figure size 432x288 with 1 Axes>"
      ]
     },
     "metadata": {
      "needs_background": "light"
     },
     "output_type": "display_data"
    }
   ],
   "source": [
    "sns.scatterplot(x = 'no_previous', y = 'ins_premium', hue = 'region', data = df)"
   ]
  },
  {
   "cell_type": "code",
   "execution_count": 41,
   "metadata": {},
   "outputs": [
    {
     "data": {
      "text/plain": [
       "<AxesSubplot:xlabel='ins_premium', ylabel='alcohol'>"
      ]
     },
     "execution_count": 41,
     "metadata": {},
     "output_type": "execute_result"
    },
    {
     "data": {
      "image/png": "[encoded data removed]",
      "text/plain": [
       "<Figure size 432x288 with 1 Axes>"
      ]
     },
     "metadata": {
      "needs_background": "light"
     },
     "output_type": "display_data"
    }
   ],
   "source": [
    "sns.scatterplot(x = 'ins_premium', y = 'alcohol', data = df)"
   ]
  },
  {
   "cell_type": "code",
   "execution_count": 30,
   "metadata": {},
   "outputs": [
    {
     "data": {
      "text/plain": [
       "<AxesSubplot:ylabel='alcohol'>"
      ]
     },
     "execution_count": 30,
     "metadata": {},
     "output_type": "execute_result"
    },
    {
     "data": {
      "image/png": "[encoded data removed]",
      "text/plain": [
       "<Figure size 432x288 with 1 Axes>"
      ]
     },
     "metadata": {
      "needs_background": "light"
     },
     "output_type": "display_data"
    }
   ],
   "source": [
    "sns.boxplot(y=df['alcohol'])"
   ]
  },
  {
   "cell_type": "code",
   "execution_count": 39,
   "metadata": {},
   "outputs": [
    {
     "data": {
      "text/plain": [
       "<AxesSubplot:ylabel='ins_premium'>"
      ]
     },
     "execution_count": 39,
     "metadata": {},
     "output_type": "execute_result"
    },
    {
     "data": {
      "image/png": "[encoded data removed]",
      "text/plain": [
       "<Figure size 432x288 with 1 Axes>"
      ]
     },
     "metadata": {
      "needs_background": "light"
     },
     "output_type": "display_data"
    }
   ],
   "source": [
    "sns.boxplot(y=df['ins_premium'])"
   ]
  },
  {
   "cell_type": "markdown",
   "metadata": {},
   "source": [
    "## Question 4. Display and Remove (the real) outliers"
   ]
  },
  {
   "cell_type": "markdown",
   "metadata": {},
   "source": [
    "**Type in your code here**"
   ]
  },
  {
   "cell_type": "code",
   "execution_count": 40,
   "metadata": {},
   "outputs": [],
   "source": [
    "display = df[df['alcohol'] > 20]\n",
    "display = df[df['ins_premium'] > 1600]"
   ]
  },
  {
   "cell_type": "code",
   "execution_count": 43,
   "metadata": {},
   "outputs": [
    {
     "data": {
      "text/plain": [
       "<AxesSubplot:xlabel='ins_premium', ylabel='alcohol'>"
      ]
     },
     "execution_count": 43,
     "metadata": {},
     "output_type": "execute_result"
    },
    {
     "data": {
      "image/png": "[encoded data removed]",
      "text/plain": [
       "<Figure size 432x288 with 1 Axes>"
      ]
     },
     "metadata": {
      "needs_background": "light"
     },
     "output_type": "display_data"
    }
   ],
   "source": [
    "sns.scatterplot(x = 'ins_premium', y = 'alcohol', data = display)"
   ]
  },
  {
   "cell_type": "code",
   "execution_count": 44,
   "metadata": {},
   "outputs": [],
   "source": [
    "df = df[df['alcohol'] < 20]\n",
    "df = df[df['ins_premium'] < 1600]"
   ]
  },
  {
   "cell_type": "code",
   "execution_count": 45,
   "metadata": {},
   "outputs": [
    {
     "data": {
      "text/plain": [
       "<AxesSubplot:xlabel='ins_premium', ylabel='alcohol'>"
      ]
     },
     "execution_count": 45,
     "metadata": {},
     "output_type": "execute_result"
    },
    {
     "data": {
      "image/png": "[encoded data removed]",
      "text/plain": [
       "<Figure size 432x288 with 1 Axes>"
      ]
     },
     "metadata": {
      "needs_background": "light"
     },
     "output_type": "display_data"
    }
   ],
   "source": [
    "sns.scatterplot(x = 'ins_premium', y = 'alcohol', data = df)"
   ]
  },
  {
   "cell_type": "code",
   "execution_count": 47,
   "metadata": {},
   "outputs": [
    {
     "data": {
      "text/plain": [
       "<AxesSubplot:xlabel='accidents', ylabel='alcohol'>"
      ]
     },
     "execution_count": 47,
     "metadata": {},
     "output_type": "execute_result"
    },
    {
     "data": {
      "image/png": "[encoded data removed]",
      "text/plain": [
       "<Figure size 432x288 with 1 Axes>"
      ]
     },
     "metadata": {
      "needs_background": "light"
     },
     "output_type": "display_data"
    }
   ],
   "source": [
    "sns.scatterplot(x = 'accidents', y = 'alcohol', data = df)"
   ]
  },
  {
   "cell_type": "markdown",
   "metadata": {},
   "source": [
    "## Question 5. Calculate the average speeding in usa and Northeast region using SQL"
   ]
  },
  {
   "cell_type": "markdown",
   "metadata": {},
   "source": [
    "**Type in your code here**"
   ]
  },
  {
   "cell_type": "code",
   "execution_count": 49,
   "metadata": {},
   "outputs": [
    {
     "name": "stdout",
     "output_type": "stream",
     "text": [
      "      region  avg(speeding)\n",
      "0  Northeast        4.42475\n"
     ]
    }
   ],
   "source": [
    "sql = \"select region, avg(speeding) from df where region = 'Northeast'\"\n",
    "print(ps.sqldf(sql))"
   ]
  },
  {
   "cell_type": "markdown",
   "metadata": {},
   "source": [
    "## Question 6. Calculate the average alcohol for each region using SQL"
   ]
  },
  {
   "cell_type": "markdown",
   "metadata": {},
   "source": [
    "**Type in your code here**"
   ]
  },
  {
   "cell_type": "code",
   "execution_count": 50,
   "metadata": {},
   "outputs": [
    {
     "name": "stdout",
     "output_type": "stream",
     "text": [
      "      region  avg(alcohol)\n",
      "0    Midwest      4.996917\n",
      "1  Northeast      3.980500\n",
      "2      South      5.414647\n",
      "3       West      4.754077\n"
     ]
    }
   ],
   "source": [
    "sql = \"select region, avg(alcohol) from df group by region\"\n",
    "print(ps.sqldf(sql))"
   ]
  },
  {
   "cell_type": "markdown",
   "metadata": {},
   "source": [
    "## Question 7. Calculate the number of occurrences, mean, min, max of the speeding for each divison using SQL"
   ]
  },
  {
   "cell_type": "markdown",
   "metadata": {},
   "source": [
    "**Type in your code here**"
   ]
  },
  {
   "cell_type": "code",
   "execution_count": 53,
   "metadata": {},
   "outputs": [
    {
     "name": "stdout",
     "output_type": "stream",
     "text": [
      "             division  occurences  avg(speeding)  min(speeding)  max(speeding)\n",
      "0  East North Central           5       4.106600          3.384          4.968\n",
      "1  East South Central           4       4.533250          2.640          7.332\n",
      "2     Middle Atlantic           2       5.446000          1.792          9.100\n",
      "3            Mountain           8       5.812250          3.496          8.346\n",
      "4         New England           6       4.084333          1.886          5.738\n",
      "5             Pacific           5       5.949400          4.200          9.450\n",
      "6      South Atlantic           9       5.030444          2.006          9.082\n",
      "7  West North Central           7       4.293429          1.937          6.923\n",
      "8  West South Central           4       6.333750          4.032          7.760\n"
     ]
    }
   ],
   "source": [
    "sql = \"select division, count(*) as 'occurences', avg(speeding), min(speeding), max(speeding) from df group by division\"\n",
    "print(ps.sqldf(sql))"
   ]
  },
  {
   "cell_type": "markdown",
   "metadata": {},
   "source": [
    "## Question 8. Answer Question 7 but use Pandas functions"
   ]
  },
  {
   "cell_type": "markdown",
   "metadata": {},
   "source": [
    "**Type in your code here**"
   ]
  },
  {
   "cell_type": "code",
   "execution_count": 56,
   "metadata": {},
   "outputs": [
    {
     "data": {
      "text/html": [
       "<div>\n",
       "<style scoped>\n",
       "    .dataframe tbody tr th:only-of-type {\n",
       "        vertical-align: middle;\n",
       "    }\n",
       "\n",
       "    .dataframe tbody tr th {\n",
       "        vertical-align: top;\n",
       "    }\n",
       "\n",
       "    .dataframe thead tr th {\n",
       "        text-align: left;\n",
       "    }\n",
       "\n",
       "    .dataframe thead tr:last-of-type th {\n",
       "        text-align: right;\n",
       "    }\n",
       "</style>\n",
       "<table border=\"1\" class=\"dataframe\">\n",
       "  <thead>\n",
       "    <tr>\n",
       "      <th></th>\n",
       "      <th colspan=\"8\" halign=\"left\">accidents</th>\n",
       "      <th colspan=\"2\" halign=\"left\">speeding</th>\n",
       "      <th>...</th>\n",
       "      <th colspan=\"2\" halign=\"left\">ins_premium</th>\n",
       "      <th colspan=\"8\" halign=\"left\">ins_losses</th>\n",
       "    </tr>\n",
       "    <tr>\n",
       "      <th></th>\n",
       "      <th>count</th>\n",
       "      <th>mean</th>\n",
       "      <th>std</th>\n",
       "      <th>min</th>\n",
       "      <th>25%</th>\n",
       "      <th>50%</th>\n",
       "      <th>75%</th>\n",
       "      <th>max</th>\n",
       "      <th>count</th>\n",
       "      <th>mean</th>\n",
       "      <th>...</th>\n",
       "      <th>75%</th>\n",
       "      <th>max</th>\n",
       "      <th>count</th>\n",
       "      <th>mean</th>\n",
       "      <th>std</th>\n",
       "      <th>min</th>\n",
       "      <th>25%</th>\n",
       "      <th>50%</th>\n",
       "      <th>75%</th>\n",
       "      <th>max</th>\n",
       "    </tr>\n",
       "    <tr>\n",
       "      <th>division</th>\n",
       "      <th></th>\n",
       "      <th></th>\n",
       "      <th></th>\n",
       "      <th></th>\n",
       "      <th></th>\n",
       "      <th></th>\n",
       "      <th></th>\n",
       "      <th></th>\n",
       "      <th></th>\n",
       "      <th></th>\n",
       "      <th></th>\n",
       "      <th></th>\n",
       "      <th></th>\n",
       "      <th></th>\n",
       "      <th></th>\n",
       "      <th></th>\n",
       "      <th></th>\n",
       "      <th></th>\n",
       "      <th></th>\n",
       "      <th></th>\n",
       "      <th></th>\n",
       "    </tr>\n",
       "  </thead>\n",
       "  <tbody>\n",
       "    <tr>\n",
       "      <th>East North Central</th>\n",
       "      <td>5.0</td>\n",
       "      <td>13.860000</td>\n",
       "      <td>0.642651</td>\n",
       "      <td>12.8</td>\n",
       "      <td>13.800</td>\n",
       "      <td>14.10</td>\n",
       "      <td>14.100</td>\n",
       "      <td>14.5</td>\n",
       "      <td>5.0</td>\n",
       "      <td>4.106600</td>\n",
       "      <td>...</td>\n",
       "      <td>803.1100</td>\n",
       "      <td>1110.61</td>\n",
       "      <td>5.0</td>\n",
       "      <td>128.094000</td>\n",
       "      <td>19.776546</td>\n",
       "      <td>106.62</td>\n",
       "      <td>108.9200</td>\n",
       "      <td>133.520</td>\n",
       "      <td>139.1500</td>\n",
       "      <td>152.26</td>\n",
       "    </tr>\n",
       "    <tr>\n",
       "      <th>East South Central</th>\n",
       "      <td>4.0</td>\n",
       "      <td>19.325000</td>\n",
       "      <td>1.590335</td>\n",
       "      <td>17.6</td>\n",
       "      <td>18.500</td>\n",
       "      <td>19.15</td>\n",
       "      <td>19.975</td>\n",
       "      <td>21.4</td>\n",
       "      <td>4.0</td>\n",
       "      <td>4.533250</td>\n",
       "      <td>...</td>\n",
       "      <td>878.4000</td>\n",
       "      <td>896.07</td>\n",
       "      <td>4.0</td>\n",
       "      <td>148.387500</td>\n",
       "      <td>9.014072</td>\n",
       "      <td>137.13</td>\n",
       "      <td>143.0925</td>\n",
       "      <td>150.325</td>\n",
       "      <td>155.6200</td>\n",
       "      <td>155.77</td>\n",
       "    </tr>\n",
       "    <tr>\n",
       "      <th>Middle Atlantic</th>\n",
       "      <td>2.0</td>\n",
       "      <td>14.700000</td>\n",
       "      <td>4.949747</td>\n",
       "      <td>11.2</td>\n",
       "      <td>12.950</td>\n",
       "      <td>14.70</td>\n",
       "      <td>16.450</td>\n",
       "      <td>18.2</td>\n",
       "      <td>2.0</td>\n",
       "      <td>5.446000</td>\n",
       "      <td>...</td>\n",
       "      <td>1202.6375</td>\n",
       "      <td>1301.52</td>\n",
       "      <td>2.0</td>\n",
       "      <td>156.855000</td>\n",
       "      <td>4.235570</td>\n",
       "      <td>153.86</td>\n",
       "      <td>155.3575</td>\n",
       "      <td>156.855</td>\n",
       "      <td>158.3525</td>\n",
       "      <td>159.85</td>\n",
       "    </tr>\n",
       "    <tr>\n",
       "      <th>Mountain</th>\n",
       "      <td>8.0</td>\n",
       "      <td>16.337500</td>\n",
       "      <td>3.223989</td>\n",
       "      <td>11.3</td>\n",
       "      <td>14.425</td>\n",
       "      <td>16.35</td>\n",
       "      <td>18.450</td>\n",
       "      <td>21.4</td>\n",
       "      <td>8.0</td>\n",
       "      <td>5.812250</td>\n",
       "      <td>...</td>\n",
       "      <td>877.2550</td>\n",
       "      <td>1029.87</td>\n",
       "      <td>8.0</td>\n",
       "      <td>113.642500</td>\n",
       "      <td>21.493294</td>\n",
       "      <td>82.75</td>\n",
       "      <td>103.3975</td>\n",
       "      <td>115.550</td>\n",
       "      <td>126.2075</td>\n",
       "      <td>139.91</td>\n",
       "    </tr>\n",
       "    <tr>\n",
       "      <th>New England</th>\n",
       "      <td>6.0</td>\n",
       "      <td>11.733333</td>\n",
       "      <td>2.391373</td>\n",
       "      <td>8.2</td>\n",
       "      <td>10.875</td>\n",
       "      <td>11.35</td>\n",
       "      <td>13.100</td>\n",
       "      <td>15.1</td>\n",
       "      <td>6.0</td>\n",
       "      <td>4.084333</td>\n",
       "      <td>...</td>\n",
       "      <td>1054.3325</td>\n",
       "      <td>1148.99</td>\n",
       "      <td>6.0</td>\n",
       "      <td>129.603333</td>\n",
       "      <td>25.983113</td>\n",
       "      <td>96.57</td>\n",
       "      <td>112.2600</td>\n",
       "      <td>127.920</td>\n",
       "      <td>145.3425</td>\n",
       "      <td>167.02</td>\n",
       "    </tr>\n",
       "    <tr>\n",
       "      <th>Pacific</th>\n",
       "      <td>5.0</td>\n",
       "      <td>14.200000</td>\n",
       "      <td>3.386001</td>\n",
       "      <td>10.6</td>\n",
       "      <td>12.000</td>\n",
       "      <td>12.80</td>\n",
       "      <td>17.500</td>\n",
       "      <td>18.1</td>\n",
       "      <td>5.0</td>\n",
       "      <td>5.949400</td>\n",
       "      <td>...</td>\n",
       "      <td>890.0300</td>\n",
       "      <td>1053.48</td>\n",
       "      <td>5.0</td>\n",
       "      <td>127.342000</td>\n",
       "      <td>24.054833</td>\n",
       "      <td>104.61</td>\n",
       "      <td>111.6200</td>\n",
       "      <td>120.920</td>\n",
       "      <td>133.9300</td>\n",
       "      <td>165.63</td>\n",
       "    </tr>\n",
       "    <tr>\n",
       "      <th>South Atlantic</th>\n",
       "      <td>9.0</td>\n",
       "      <td>16.144444</td>\n",
       "      <td>5.619856</td>\n",
       "      <td>5.9</td>\n",
       "      <td>12.700</td>\n",
       "      <td>16.20</td>\n",
       "      <td>17.900</td>\n",
       "      <td>23.9</td>\n",
       "      <td>9.0</td>\n",
       "      <td>5.030444</td>\n",
       "      <td>...</td>\n",
       "      <td>1137.8700</td>\n",
       "      <td>1273.89</td>\n",
       "      <td>9.0</td>\n",
       "      <td>146.400000</td>\n",
       "      <td>21.324469</td>\n",
       "      <td>116.29</td>\n",
       "      <td>136.0500</td>\n",
       "      <td>144.180</td>\n",
       "      <td>152.5600</td>\n",
       "      <td>192.70</td>\n",
       "    </tr>\n",
       "    <tr>\n",
       "      <th>West North Central</th>\n",
       "      <td>7.0</td>\n",
       "      <td>16.771429</td>\n",
       "      <td>4.383953</td>\n",
       "      <td>9.6</td>\n",
       "      <td>15.300</td>\n",
       "      <td>16.10</td>\n",
       "      <td>18.600</td>\n",
       "      <td>23.9</td>\n",
       "      <td>7.0</td>\n",
       "      <td>4.293429</td>\n",
       "      <td>...</td>\n",
       "      <td>778.8150</td>\n",
       "      <td>790.32</td>\n",
       "      <td>7.0</td>\n",
       "      <td>121.068571</td>\n",
       "      <td>16.616060</td>\n",
       "      <td>96.87</td>\n",
       "      <td>112.0950</td>\n",
       "      <td>114.820</td>\n",
       "      <td>133.5750</td>\n",
       "      <td>144.45</td>\n",
       "    </tr>\n",
       "    <tr>\n",
       "      <th>West South Central</th>\n",
       "      <td>4.0</td>\n",
       "      <td>20.550000</td>\n",
       "      <td>1.312758</td>\n",
       "      <td>19.4</td>\n",
       "      <td>19.775</td>\n",
       "      <td>20.20</td>\n",
       "      <td>20.975</td>\n",
       "      <td>22.4</td>\n",
       "      <td>4.0</td>\n",
       "      <td>6.333750</td>\n",
       "      <td>...</td>\n",
       "      <td>1073.9500</td>\n",
       "      <td>1281.55</td>\n",
       "      <td>4.0</td>\n",
       "      <td>168.215000</td>\n",
       "      <td>23.206063</td>\n",
       "      <td>142.39</td>\n",
       "      <td>153.2200</td>\n",
       "      <td>167.845</td>\n",
       "      <td>182.8400</td>\n",
       "      <td>194.78</td>\n",
       "    </tr>\n",
       "  </tbody>\n",
       "</table>\n",
       "<p>9 rows × 56 columns</p>\n",
       "</div>"
      ],
      "text/plain": [
       "                   accidents                                            \\\n",
       "                       count       mean       std   min     25%    50%   \n",
       "division                                                                 \n",
       "East North Central       5.0  13.860000  0.642651  12.8  13.800  14.10   \n",
       "East South Central       4.0  19.325000  1.590335  17.6  18.500  19.15   \n",
       "Middle Atlantic          2.0  14.700000  4.949747  11.2  12.950  14.70   \n",
       "Mountain                 8.0  16.337500  3.223989  11.3  14.425  16.35   \n",
       "New England              6.0  11.733333  2.391373   8.2  10.875  11.35   \n",
       "Pacific                  5.0  14.200000  3.386001  10.6  12.000  12.80   \n",
       "South Atlantic           9.0  16.144444  5.619856   5.9  12.700  16.20   \n",
       "West North Central       7.0  16.771429  4.383953   9.6  15.300  16.10   \n",
       "West South Central       4.0  20.550000  1.312758  19.4  19.775  20.20   \n",
       "\n",
       "                                 speeding            ... ins_premium           \\\n",
       "                       75%   max    count      mean  ...         75%      max   \n",
       "division                                             ...                        \n",
       "East North Central  14.100  14.5      5.0  4.106600  ...    803.1100  1110.61   \n",
       "East South Central  19.975  21.4      4.0  4.533250  ...    878.4000   896.07   \n",
       "Middle Atlantic     16.450  18.2      2.0  5.446000  ...   1202.6375  1301.52   \n",
       "Mountain            18.450  21.4      8.0  5.812250  ...    877.2550  1029.87   \n",
       "New England         13.100  15.1      6.0  4.084333  ...   1054.3325  1148.99   \n",
       "Pacific             17.500  18.1      5.0  5.949400  ...    890.0300  1053.48   \n",
       "South Atlantic      17.900  23.9      9.0  5.030444  ...   1137.8700  1273.89   \n",
       "West North Central  18.600  23.9      7.0  4.293429  ...    778.8150   790.32   \n",
       "West South Central  20.975  22.4      4.0  6.333750  ...   1073.9500  1281.55   \n",
       "\n",
       "                   ins_losses                                           \\\n",
       "                        count        mean        std     min       25%   \n",
       "division                                                                 \n",
       "East North Central        5.0  128.094000  19.776546  106.62  108.9200   \n",
       "East South Central        4.0  148.387500   9.014072  137.13  143.0925   \n",
       "Middle Atlantic           2.0  156.855000   4.235570  153.86  155.3575   \n",
       "Mountain                  8.0  113.642500  21.493294   82.75  103.3975   \n",
       "New England               6.0  129.603333  25.983113   96.57  112.2600   \n",
       "Pacific                   5.0  127.342000  24.054833  104.61  111.6200   \n",
       "South Atlantic            9.0  146.400000  21.324469  116.29  136.0500   \n",
       "West North Central        7.0  121.068571  16.616060   96.87  112.0950   \n",
       "West South Central        4.0  168.215000  23.206063  142.39  153.2200   \n",
       "\n",
       "                                               \n",
       "                        50%       75%     max  \n",
       "division                                       \n",
       "East North Central  133.520  139.1500  152.26  \n",
       "East South Central  150.325  155.6200  155.77  \n",
       "Middle Atlantic     156.855  158.3525  159.85  \n",
       "Mountain            115.550  126.2075  139.91  \n",
       "New England         127.920  145.3425  167.02  \n",
       "Pacific             120.920  133.9300  165.63  \n",
       "South Atlantic      144.180  152.5600  192.70  \n",
       "West North Central  114.820  133.5750  144.45  \n",
       "West South Central  167.845  182.8400  194.78  \n",
       "\n",
       "[9 rows x 56 columns]"
      ]
     },
     "execution_count": 56,
     "metadata": {},
     "output_type": "execute_result"
    }
   ],
   "source": [
    "df.groupby('division').describe()"
   ]
  },
  {
   "cell_type": "markdown",
   "metadata": {},
   "source": [
    "## Question 9. Calculate the Standard deviation, Skew and Kurtosis for the accidents, speeding, alcohol for each region"
   ]
  },
  {
   "cell_type": "markdown",
   "metadata": {},
   "source": [
    "**Type in your code here**"
   ]
  },
  {
   "cell_type": "code",
   "execution_count": 88,
   "metadata": {},
   "outputs": [],
   "source": [
    "acc = df.groupby('region')['accidents']\n",
    "speed = df.groupby('region')['speeding']\n",
    "alc = df.groupby('region')['alcohol']"
   ]
  },
  {
   "cell_type": "code",
   "execution_count": 89,
   "metadata": {},
   "outputs": [
    {
     "name": "stdout",
     "output_type": "stream",
     "text": [
      "STDev: region\n",
      "Midwest      3.588988\n",
      "Northeast    3.077453\n",
      "South        4.537037\n",
      "West         3.325118\n",
      "Name: accidents, dtype: float64\n",
      "\n",
      "STDev: region\n",
      "Midwest      1.537451\n",
      "Northeast    2.327773\n",
      "South        2.220711\n",
      "West         1.803138\n",
      "Name: speeding, dtype: float64\n",
      "\n",
      "STDev: region\n",
      "Midwest      1.824432\n",
      "Northeast    0.872950\n",
      "South        1.773576\n",
      "West         1.910356\n",
      "Name: alcohol, dtype: float64\n",
      "\n"
     ]
    }
   ],
   "source": [
    "print(\"STDev: {}\\n\".format(acc.std()))\n",
    "print(\"STDev: {}\\n\".format(speed.std()))\n",
    "print(\"STDev: {}\\n\".format(alc.std()))"
   ]
  },
  {
   "cell_type": "code",
   "execution_count": 90,
   "metadata": {},
   "outputs": [
    {
     "name": "stdout",
     "output_type": "stream",
     "text": [
      "skew: region\n",
      "Midwest      0.950845\n",
      "Northeast    0.777587\n",
      "South       -1.125839\n",
      "West         0.064819\n",
      "Name: accidents, dtype: float64\n",
      "\n",
      "skew: region\n",
      "Midwest      0.121197\n",
      "Northeast    1.051666\n",
      "South        0.172035\n",
      "West         0.697441\n",
      "Name: speeding, dtype: float64\n",
      "'\n",
      "skew: region\n",
      "Midwest      2.093467\n",
      "Northeast    0.764250\n",
      "South        0.330988\n",
      "West         1.159752\n",
      "Name: alcohol, dtype: float64\n",
      "\n"
     ]
    }
   ],
   "source": [
    "print(\"skew: {}\\n\".format(acc.skew()))\n",
    "print(\"skew: {}\\n'\".format(speed.skew()))\n",
    "print(\"skew: {}\\n\".format(alc.skew()))"
   ]
  },
  {
   "cell_type": "code",
   "execution_count": 65,
   "metadata": {},
   "outputs": [
    {
     "name": "stdout",
     "output_type": "stream",
     "text": [
      "Kurtosis:            accidents  speeding   alcohol  not_distracted  no_previous  \\\n",
      "region                                                                  \n",
      "Midwest     2.067092 -0.737061  5.597372        1.687744     1.879846   \n",
      "Northeast   0.726713  1.763520  0.890501        1.172994    -0.135506   \n",
      "South       1.860064 -1.327699  2.125568        0.843642     1.717457   \n",
      "West       -1.048692 -0.465455  2.219220       -0.875932    -1.231600   \n",
      "\n",
      "           ins_premium  ins_losses  \n",
      "region                              \n",
      "Midwest       6.895529   -1.284943  \n",
      "Northeast    -1.197166   -1.262285  \n",
      "South        -0.589687    0.632626  \n",
      "West          1.438275    0.427290  \n"
     ]
    }
   ],
   "source": [
    "print(\"Kurtosis: {}\".format(df.groupby(['region']).apply(pd.DataFrame.kurt)))"
   ]
  },
  {
   "cell_type": "code",
   "execution_count": 75,
   "metadata": {},
   "outputs": [
    {
     "data": {
      "text/plain": [
       "region\n",
       "Midwest      5.597372\n",
       "Northeast    0.890501\n",
       "South        2.125568\n",
       "West         2.219220\n",
       "Name: alcohol, dtype: float64"
      ]
     },
     "execution_count": 75,
     "metadata": {},
     "output_type": "execute_result"
    }
   ],
   "source": [
    "df.groupby(['region'])['accidents'].apply(pd.DataFrame.kurtosis)"
   ]
  },
  {
   "cell_type": "code",
   "execution_count": 76,
   "metadata": {},
   "outputs": [
    {
     "data": {
      "text/plain": [
       "region\n",
       "Midwest     -0.737061\n",
       "Northeast    1.763520\n",
       "South       -1.327699\n",
       "West        -0.465455\n",
       "Name: speeding, dtype: float64"
      ]
     },
     "execution_count": 76,
     "metadata": {},
     "output_type": "execute_result"
    }
   ],
   "source": [
    "df.groupby(['region'])['speeding'].apply(pd.DataFrame.kurtosis)"
   ]
  },
  {
   "cell_type": "code",
   "execution_count": 77,
   "metadata": {},
   "outputs": [
    {
     "data": {
      "text/plain": [
       "region\n",
       "Midwest      5.597372\n",
       "Northeast    0.890501\n",
       "South        2.125568\n",
       "West         2.219220\n",
       "Name: alcohol, dtype: float64"
      ]
     },
     "execution_count": 77,
     "metadata": {},
     "output_type": "execute_result"
    }
   ],
   "source": [
    "df.groupby(['region'])['alcohol'].apply(pd.DataFrame.kurtosis)"
   ]
  },
  {
   "cell_type": "markdown",
   "metadata": {},
   "source": [
    "## Question 10. Plot the histogram of accidents distribution for different region using 5 bins"
   ]
  },
  {
   "cell_type": "markdown",
   "metadata": {},
   "source": [
    "**Type in your answer here**"
   ]
  },
  {
   "cell_type": "code",
   "execution_count": 96,
   "metadata": {},
   "outputs": [
    {
     "data": {
      "text/plain": [
       "region\n",
       "Midwest      [[AxesSubplot(0.125,0.125;0.775x0.755)]]\n",
       "Northeast    [[AxesSubplot(0.125,0.125;0.775x0.755)]]\n",
       "South        [[AxesSubplot(0.125,0.125;0.775x0.755)]]\n",
       "West         [[AxesSubplot(0.125,0.125;0.775x0.755)]]\n",
       "dtype: object"
      ]
     },
     "execution_count": 96,
     "metadata": {},
     "output_type": "execute_result"
    },
    {
     "data": {
      "image/png": "[encoded data removed]",
      "text/plain": [
       "<Figure size 432x288 with 1 Axes>"
      ]
     },
     "metadata": {
      "needs_background": "light"
     },
     "output_type": "display_data"
    },
    {
     "data": {
      "image/png": "[encoded data removed]",
      "text/plain": [
       "<Figure size 432x288 with 1 Axes>"
      ]
     },
     "metadata": {
      "needs_background": "light"
     },
     "output_type": "display_data"
    },
    {
     "data": {
      "image/png": "[encoded data removed]",
      "text/plain": [
       "<Figure size 432x288 with 1 Axes>"
      ]
     },
     "metadata": {
      "needs_background": "light"
     },
     "output_type": "display_data"
    },
    {
     "data": {
      "image/png": "[encoded data removed]",
      "text/plain": [
       "<Figure size 432x288 with 1 Axes>"
      ]
     },
     "metadata": {
      "needs_background": "light"
     },
     "output_type": "display_data"
    }
   ],
   "source": [
    "df.groupby('region').hist(column='accidents',bins = 5)"
   ]
  },
  {
   "cell_type": "markdown",
   "metadata": {},
   "source": [
    "## Question 11. How would you describe the accidents distribution for different region based on the Skew and Kurotsis?\n",
    "(i.e. who has positive and negative skew and who has positive and negative Kurotsis)"
   ]
  },
  {
   "cell_type": "markdown",
   "metadata": {},
   "source": [
    "**Type in your answer here**"
   ]
  },
  {
   "cell_type": "markdown",
   "metadata": {},
   "source": [
    "The Midwest has a high positive skew and a moderately low kurtosis, meaning there are a few states in the Midwest that have a normal amount of car crashes with some outliers that are less than normal..\n",
    "\n",
    "The Northeast has a moderately high positive skew and is platykurtic, meaning there are a less than average amount of states in the Northeast with low car crashes.\n",
    "\n",
    "The South has a high negative skew and a slightly low kurtosis, meaning there are a lot of states with a lot of car crashes.\n",
    "\n",
    "The West has a normal skew close to 0 with a negative kurtosis, meaning there are a normal amount of car crashes with many low outliers."
   ]
  },
  {
   "cell_type": "markdown",
   "metadata": {},
   "source": [
    "## Question 12. Calculate correlation of all the factors among themselves and determine which factors among speeding, alcohol or ins_premium will affect accidents the most?"
   ]
  },
  {
   "cell_type": "markdown",
   "metadata": {},
   "source": [
    "**Type in your code and answers here**"
   ]
  },
  {
   "cell_type": "code",
   "execution_count": 98,
   "metadata": {},
   "outputs": [
    {
     "data": {
      "text/html": [
       "<div>\n",
       "<style scoped>\n",
       "    .dataframe tbody tr th:only-of-type {\n",
       "        vertical-align: middle;\n",
       "    }\n",
       "\n",
       "    .dataframe tbody tr th {\n",
       "        vertical-align: top;\n",
       "    }\n",
       "\n",
       "    .dataframe thead th {\n",
       "        text-align: right;\n",
       "    }\n",
       "</style>\n",
       "<table border=\"1\" class=\"dataframe\">\n",
       "  <thead>\n",
       "    <tr style=\"text-align: right;\">\n",
       "      <th></th>\n",
       "      <th>accidents</th>\n",
       "      <th>speeding</th>\n",
       "      <th>alcohol</th>\n",
       "      <th>not_distracted</th>\n",
       "      <th>no_previous</th>\n",
       "      <th>ins_premium</th>\n",
       "      <th>ins_losses</th>\n",
       "    </tr>\n",
       "  </thead>\n",
       "  <tbody>\n",
       "    <tr>\n",
       "      <th>accidents</th>\n",
       "      <td>1.000000</td>\n",
       "      <td>0.608632</td>\n",
       "      <td>0.850706</td>\n",
       "      <td>0.826209</td>\n",
       "      <td>0.956009</td>\n",
       "      <td>-0.174157</td>\n",
       "      <td>-0.025507</td>\n",
       "    </tr>\n",
       "    <tr>\n",
       "      <th>speeding</th>\n",
       "      <td>0.608632</td>\n",
       "      <td>1.000000</td>\n",
       "      <td>0.667377</td>\n",
       "      <td>0.585337</td>\n",
       "      <td>0.568831</td>\n",
       "      <td>-0.059254</td>\n",
       "      <td>-0.059624</td>\n",
       "    </tr>\n",
       "    <tr>\n",
       "      <th>alcohol</th>\n",
       "      <td>0.850706</td>\n",
       "      <td>0.667377</td>\n",
       "      <td>1.000000</td>\n",
       "      <td>0.730435</td>\n",
       "      <td>0.780696</td>\n",
       "      <td>-0.146921</td>\n",
       "      <td>-0.103849</td>\n",
       "    </tr>\n",
       "    <tr>\n",
       "      <th>not_distracted</th>\n",
       "      <td>0.826209</td>\n",
       "      <td>0.585337</td>\n",
       "      <td>0.730435</td>\n",
       "      <td>1.000000</td>\n",
       "      <td>0.745712</td>\n",
       "      <td>-0.157416</td>\n",
       "      <td>-0.068733</td>\n",
       "    </tr>\n",
       "    <tr>\n",
       "      <th>no_previous</th>\n",
       "      <td>0.956009</td>\n",
       "      <td>0.568831</td>\n",
       "      <td>0.780696</td>\n",
       "      <td>0.745712</td>\n",
       "      <td>1.000000</td>\n",
       "      <td>-0.119067</td>\n",
       "      <td>0.007872</td>\n",
       "    </tr>\n",
       "    <tr>\n",
       "      <th>ins_premium</th>\n",
       "      <td>-0.174157</td>\n",
       "      <td>-0.059254</td>\n",
       "      <td>-0.146921</td>\n",
       "      <td>-0.157416</td>\n",
       "      <td>-0.119067</td>\n",
       "      <td>1.000000</td>\n",
       "      <td>0.625381</td>\n",
       "    </tr>\n",
       "    <tr>\n",
       "      <th>ins_losses</th>\n",
       "      <td>-0.025507</td>\n",
       "      <td>-0.059624</td>\n",
       "      <td>-0.103849</td>\n",
       "      <td>-0.068733</td>\n",
       "      <td>0.007872</td>\n",
       "      <td>0.625381</td>\n",
       "      <td>1.000000</td>\n",
       "    </tr>\n",
       "  </tbody>\n",
       "</table>\n",
       "</div>"
      ],
      "text/plain": [
       "                accidents  speeding   alcohol  not_distracted  no_previous  \\\n",
       "accidents        1.000000  0.608632  0.850706        0.826209     0.956009   \n",
       "speeding         0.608632  1.000000  0.667377        0.585337     0.568831   \n",
       "alcohol          0.850706  0.667377  1.000000        0.730435     0.780696   \n",
       "not_distracted   0.826209  0.585337  0.730435        1.000000     0.745712   \n",
       "no_previous      0.956009  0.568831  0.780696        0.745712     1.000000   \n",
       "ins_premium     -0.174157 -0.059254 -0.146921       -0.157416    -0.119067   \n",
       "ins_losses      -0.025507 -0.059624 -0.103849       -0.068733     0.007872   \n",
       "\n",
       "                ins_premium  ins_losses  \n",
       "accidents         -0.174157   -0.025507  \n",
       "speeding          -0.059254   -0.059624  \n",
       "alcohol           -0.146921   -0.103849  \n",
       "not_distracted    -0.157416   -0.068733  \n",
       "no_previous       -0.119067    0.007872  \n",
       "ins_premium        1.000000    0.625381  \n",
       "ins_losses         0.625381    1.000000  "
      ]
     },
     "execution_count": 98,
     "metadata": {},
     "output_type": "execute_result"
    }
   ],
   "source": [
    "df.corr()"
   ]
  },
  {
   "cell_type": "markdown",
   "metadata": {},
   "source": [
    "Alcohol has the greatest affect on accidents according to the data."
   ]
  },
  {
   "cell_type": "markdown",
   "metadata": {},
   "source": [
    "### Now Load a different dataset (MPG dataset number 3)"
   ]
  },
  {
   "cell_type": "code",
   "execution_count": 25,
   "metadata": {},
   "outputs": [
    {
     "name": "stdout",
     "output_type": "stream",
     "text": [
      "(405, 9)\n"
     ]
    },
    {
     "data": {
      "text/html": [
       "<div>\n",
       "<style scoped>\n",
       "    .dataframe tbody tr th:only-of-type {\n",
       "        vertical-align: middle;\n",
       "    }\n",
       "\n",
       "    .dataframe tbody tr th {\n",
       "        vertical-align: top;\n",
       "    }\n",
       "\n",
       "    .dataframe thead th {\n",
       "        text-align: right;\n",
       "    }\n",
       "</style>\n",
       "<table border=\"1\" class=\"dataframe\">\n",
       "  <thead>\n",
       "    <tr style=\"text-align: right;\">\n",
       "      <th></th>\n",
       "      <th>mpg</th>\n",
       "      <th>cylinders</th>\n",
       "      <th>displacement</th>\n",
       "      <th>horsepower</th>\n",
       "      <th>weight</th>\n",
       "      <th>acceleration</th>\n",
       "      <th>model_year</th>\n",
       "      <th>origin</th>\n",
       "      <th>name</th>\n",
       "    </tr>\n",
       "  </thead>\n",
       "  <tbody>\n",
       "    <tr>\n",
       "      <th>0</th>\n",
       "      <td>18.0</td>\n",
       "      <td>8</td>\n",
       "      <td>307.0</td>\n",
       "      <td>130.0</td>\n",
       "      <td>3504.0</td>\n",
       "      <td>12.0</td>\n",
       "      <td>70</td>\n",
       "      <td>usa</td>\n",
       "      <td>chevrolet chevelle malibu</td>\n",
       "    </tr>\n",
       "    <tr>\n",
       "      <th>1</th>\n",
       "      <td>15.0</td>\n",
       "      <td>8</td>\n",
       "      <td>350.0</td>\n",
       "      <td>165.0</td>\n",
       "      <td>3693.0</td>\n",
       "      <td>11.5</td>\n",
       "      <td>70</td>\n",
       "      <td>usa</td>\n",
       "      <td>buick skylark 320</td>\n",
       "    </tr>\n",
       "    <tr>\n",
       "      <th>2</th>\n",
       "      <td>18.0</td>\n",
       "      <td>8</td>\n",
       "      <td>318.0</td>\n",
       "      <td>150.0</td>\n",
       "      <td>3436.0</td>\n",
       "      <td>11.0</td>\n",
       "      <td>70</td>\n",
       "      <td>usa</td>\n",
       "      <td>plymouth satellite</td>\n",
       "    </tr>\n",
       "    <tr>\n",
       "      <th>3</th>\n",
       "      <td>16.0</td>\n",
       "      <td>8</td>\n",
       "      <td>304.0</td>\n",
       "      <td>150.0</td>\n",
       "      <td>3433.0</td>\n",
       "      <td>12.0</td>\n",
       "      <td>70</td>\n",
       "      <td>usa</td>\n",
       "      <td>amc rebel sst</td>\n",
       "    </tr>\n",
       "    <tr>\n",
       "      <th>4</th>\n",
       "      <td>17.0</td>\n",
       "      <td>8</td>\n",
       "      <td>302.0</td>\n",
       "      <td>140.0</td>\n",
       "      <td>3449.0</td>\n",
       "      <td>10.5</td>\n",
       "      <td>70</td>\n",
       "      <td>usa</td>\n",
       "      <td>ford torino</td>\n",
       "    </tr>\n",
       "  </tbody>\n",
       "</table>\n",
       "</div>"
      ],
      "text/plain": [
       "    mpg  cylinders  displacement  horsepower  weight  acceleration  \\\n",
       "0  18.0          8         307.0       130.0  3504.0          12.0   \n",
       "1  15.0          8         350.0       165.0  3693.0          11.5   \n",
       "2  18.0          8         318.0       150.0  3436.0          11.0   \n",
       "3  16.0          8         304.0       150.0  3433.0          12.0   \n",
       "4  17.0          8         302.0       140.0  3449.0          10.5   \n",
       "\n",
       "   model_year origin                       name  \n",
       "0          70    usa  chevrolet chevelle malibu  \n",
       "1          70    usa          buick skylark 320  \n",
       "2          70    usa         plymouth satellite  \n",
       "3          70    usa              amc rebel sst  \n",
       "4          70    usa                ford torino  "
      ]
     },
     "execution_count": 25,
     "metadata": {},
     "output_type": "execute_result"
    }
   ],
   "source": [
    "mpg = pd.read_csv(\"mpg3.csv\")\n",
    "print(mpg.shape)\n",
    "mpg.head()"
   ]
  },
  {
   "cell_type": "markdown",
   "metadata": {},
   "source": [
    "# Question 13: Check to see if there are any missing values. Fix the missing values by imputing value from the mean."
   ]
  },
  {
   "cell_type": "markdown",
   "metadata": {},
   "source": [
    "### Type your code to fix the missing values by imputing value from the mean"
   ]
  },
  {
   "cell_type": "code",
   "execution_count": 102,
   "metadata": {},
   "outputs": [
    {
     "data": {
      "text/plain": [
       "mpg              True\n",
       "cylinders       False\n",
       "displacement    False\n",
       "horsepower       True\n",
       "weight           True\n",
       "acceleration    False\n",
       "model_year      False\n",
       "origin          False\n",
       "name            False\n",
       "dtype: bool"
      ]
     },
     "execution_count": 102,
     "metadata": {},
     "output_type": "execute_result"
    }
   ],
   "source": [
    "mpg.isnull().any()"
   ]
  },
  {
   "cell_type": "code",
   "execution_count": 221,
   "metadata": {},
   "outputs": [],
   "source": [
    "var1 = 'mpg'\n",
    "var2 = 'horsepower'\n",
    "var3 = 'weight'"
   ]
  },
  {
   "cell_type": "code",
   "execution_count": 222,
   "metadata": {},
   "outputs": [],
   "source": [
    "mpg[var1] = mpg[var1].fillna(mpg[var1].mean())\n",
    "mpg[var2] = mpg[var2].fillna(mpg[var2].mean())\n",
    "mpg[var3] = mpg[var3].fillna(mpg[var3].mean())"
   ]
  },
  {
   "cell_type": "code",
   "execution_count": 223,
   "metadata": {},
   "outputs": [
    {
     "data": {
      "text/plain": [
       "mpg             False\n",
       "cylinders       False\n",
       "displacement    False\n",
       "horsepower      False\n",
       "weight          False\n",
       "acceleration    False\n",
       "model_year      False\n",
       "origin          False\n",
       "name            False\n",
       "dtype: bool"
      ]
     },
     "execution_count": 223,
     "metadata": {},
     "output_type": "execute_result"
    }
   ],
   "source": [
    "mpg.isnull().any()"
   ]
  },
  {
   "cell_type": "code",
   "execution_count": 2,
   "metadata": {},
   "outputs": [
    {
     "data": {
      "text/plain": [
       "'SRQPONMLKJIHGFE'"
      ]
     },
     "execution_count": 2,
     "metadata": {},
     "output_type": "execute_result"
    }
   ],
   "source": [
    "X = \"ABCDEFGHIJKLMNOPQRSTUVWXYZ\"\n",
    "X[18:3:-1]"
   ]
  },
  {
   "cell_type": "code",
   "execution_count": 3,
   "metadata": {},
   "outputs": [
    {
     "data": {
      "text/plain": [
       "'ZYXWVUTSR'"
      ]
     },
     "execution_count": 3,
     "metadata": {},
     "output_type": "execute_result"
    }
   ],
   "source": [
    "X[27:16:-1]"
   ]
  },
  {
   "cell_type": "code",
   "execution_count": 5,
   "metadata": {},
   "outputs": [
    {
     "name": "stdout",
     "output_type": "stream",
     "text": [
      "1\n",
      "2\n",
      "12\n"
     ]
    }
   ],
   "source": [
    "names1 = ['Amir', 'Barry', 'Charles', 'Dao']\n",
    "names2 = names1\n",
    "names3 = names1[:]\n",
    "names2[0] = 'Alice'\n",
    "names3[1] = 'Bob'\n",
    "sum = 0\n",
    "for name in (names1, names2, names3):\n",
    "   if name[0] == 'Alice':\n",
    "      sum += 1\n",
    "   if name[1] == 'Bob':\n",
    "      sum += 10\n",
    "   print(sum)"
   ]
  },
  {
   "cell_type": "code",
   "execution_count": 6,
   "metadata": {},
   "outputs": [
    {
     "data": {
      "text/plain": [
       "[1, 2, 3, 4, 5, 6]"
      ]
     },
     "execution_count": 6,
     "metadata": {},
     "output_type": "execute_result"
    }
   ],
   "source": [
    "[1,2,3] + [4,5,6]"
   ]
  },
  {
   "cell_type": "code",
   "execution_count": 7,
   "metadata": {},
   "outputs": [
    {
     "data": {
      "text/plain": [
       "[18, 21, 24]"
      ]
     },
     "execution_count": 7,
     "metadata": {},
     "output_type": "execute_result"
    }
   ],
   "source": [
    "Y=[1, 2, 3, 4, 5, 6, 7, 8, 9, 10, 11, 12, 13, 14, 15, 16, 17, 18, 19, 20, 21, 22, 23, 24, 25]\n",
    "Y[17:26:3]"
   ]
  },
  {
   "cell_type": "code",
   "execution_count": 8,
   "metadata": {},
   "outputs": [
    {
     "data": {
      "text/plain": [
       "[19, 16, 13, 10, 7]"
      ]
     },
     "execution_count": 8,
     "metadata": {},
     "output_type": "execute_result"
    }
   ],
   "source": [
    "Y[18:4:-3]"
   ]
  },
  {
   "cell_type": "code",
   "execution_count": 19,
   "metadata": {},
   "outputs": [
    {
     "ename": "NameError",
     "evalue": "name 'x0' is not defined",
     "output_type": "error",
     "traceback": [
      "\u001b[1;31m---------------------------------------------------------------------------\u001b[0m",
      "\u001b[1;31mNameError\u001b[0m                                 Traceback (most recent call last)",
      "\u001b[1;32m<ipython-input-19-498f9c5901e1>\u001b[0m in \u001b[0;36m<module>\u001b[1;34m\u001b[0m\n\u001b[1;32m----> 1\u001b[1;33m \u001b[0mxO\u001b[0m\u001b[1;33m=\u001b[0m\u001b[1;36m5\u001b[0m\u001b[1;33m;\u001b[0m\u001b[0msomething\u001b[0m \u001b[1;33m=\u001b[0m \u001b[0mx0\u001b[0m\u001b[1;33m+\u001b[0m\u001b[1;36m5\u001b[0m\u001b[1;33m\u001b[0m\u001b[1;33m\u001b[0m\u001b[0m\n\u001b[0m",
      "\u001b[1;31mNameError\u001b[0m: name 'x0' is not defined"
     ]
    }
   ],
   "source": [
    "xO=5;something = x0+5\n"
   ]
  },
  {
   "cell_type": "code",
   "execution_count": 26,
   "metadata": {},
   "outputs": [
    {
     "data": {
      "text/plain": [
       "array([ 8,  4,  6,  3, 20,  5], dtype=int64)"
      ]
     },
     "execution_count": 26,
     "metadata": {},
     "output_type": "execute_result"
    }
   ],
   "source": [
    "mpg['cylinders'].unique()"
   ]
  },
  {
   "cell_type": "code",
   "execution_count": 27,
   "metadata": {},
   "outputs": [
    {
     "ename": "NameError",
     "evalue": "name 'unique' is not defined",
     "output_type": "error",
     "traceback": [
      "\u001b[1;31m---------------------------------------------------------------------------\u001b[0m",
      "\u001b[1;31mNameError\u001b[0m                                 Traceback (most recent call last)",
      "\u001b[1;32m<ipython-input-27-b492043c263f>\u001b[0m in \u001b[0;36m<module>\u001b[1;34m\u001b[0m\n\u001b[1;32m----> 1\u001b[1;33m \u001b[0munique\u001b[0m\u001b[1;33m(\u001b[0m\u001b[0mdf\u001b[0m\u001b[1;33m[\u001b[0m\u001b[1;34m\"cylinders\"\u001b[0m\u001b[1;33m]\u001b[0m\u001b[1;33m)\u001b[0m\u001b[1;33m\u001b[0m\u001b[1;33m\u001b[0m\u001b[0m\n\u001b[0m",
      "\u001b[1;31mNameError\u001b[0m: name 'unique' is not defined"
     ]
    }
   ],
   "source": [
    "unique(df[\"cylinders\"])"
   ]
  },
  {
   "cell_type": "code",
   "execution_count": 29,
   "metadata": {},
   "outputs": [
    {
     "ename": "AttributeError",
     "evalue": "'DataFrame' object has no attribute 'unique'",
     "output_type": "error",
     "traceback": [
      "\u001b[1;31m---------------------------------------------------------------------------\u001b[0m",
      "\u001b[1;31mAttributeError\u001b[0m                            Traceback (most recent call last)",
      "\u001b[1;32m<ipython-input-29-98777f99664a>\u001b[0m in \u001b[0;36m<module>\u001b[1;34m\u001b[0m\n\u001b[1;32m----> 1\u001b[1;33m \u001b[0mmpg\u001b[0m\u001b[1;33m.\u001b[0m\u001b[0munique\u001b[0m\u001b[1;33m(\u001b[0m\u001b[0mcylinders\u001b[0m\u001b[1;33m)\u001b[0m\u001b[1;33m\u001b[0m\u001b[1;33m\u001b[0m\u001b[0m\n\u001b[0m",
      "\u001b[1;32mC:\\ProgramData\\Anaconda3\\lib\\site-packages\\pandas\\core\\generic.py\u001b[0m in \u001b[0;36m__getattr__\u001b[1;34m(self, name)\u001b[0m\n\u001b[0;32m   5463\u001b[0m             \u001b[1;32mif\u001b[0m \u001b[0mself\u001b[0m\u001b[1;33m.\u001b[0m\u001b[0m_info_axis\u001b[0m\u001b[1;33m.\u001b[0m\u001b[0m_can_hold_identifiers_and_holds_name\u001b[0m\u001b[1;33m(\u001b[0m\u001b[0mname\u001b[0m\u001b[1;33m)\u001b[0m\u001b[1;33m:\u001b[0m\u001b[1;33m\u001b[0m\u001b[1;33m\u001b[0m\u001b[0m\n\u001b[0;32m   5464\u001b[0m                 \u001b[1;32mreturn\u001b[0m \u001b[0mself\u001b[0m\u001b[1;33m[\u001b[0m\u001b[0mname\u001b[0m\u001b[1;33m]\u001b[0m\u001b[1;33m\u001b[0m\u001b[1;33m\u001b[0m\u001b[0m\n\u001b[1;32m-> 5465\u001b[1;33m             \u001b[1;32mreturn\u001b[0m \u001b[0mobject\u001b[0m\u001b[1;33m.\u001b[0m\u001b[0m__getattribute__\u001b[0m\u001b[1;33m(\u001b[0m\u001b[0mself\u001b[0m\u001b[1;33m,\u001b[0m \u001b[0mname\u001b[0m\u001b[1;33m)\u001b[0m\u001b[1;33m\u001b[0m\u001b[1;33m\u001b[0m\u001b[0m\n\u001b[0m\u001b[0;32m   5466\u001b[0m \u001b[1;33m\u001b[0m\u001b[0m\n\u001b[0;32m   5467\u001b[0m     \u001b[1;32mdef\u001b[0m \u001b[0m__setattr__\u001b[0m\u001b[1;33m(\u001b[0m\u001b[0mself\u001b[0m\u001b[1;33m,\u001b[0m \u001b[0mname\u001b[0m\u001b[1;33m:\u001b[0m \u001b[0mstr\u001b[0m\u001b[1;33m,\u001b[0m \u001b[0mvalue\u001b[0m\u001b[1;33m)\u001b[0m \u001b[1;33m->\u001b[0m \u001b[1;32mNone\u001b[0m\u001b[1;33m:\u001b[0m\u001b[1;33m\u001b[0m\u001b[1;33m\u001b[0m\u001b[0m\n",
      "\u001b[1;31mAttributeError\u001b[0m: 'DataFrame' object has no attribute 'unique'"
     ]
    }
   ],
   "source": [
    "mpg.unique(cylinders)"
   ]
  },
  {
   "cell_type": "code",
   "execution_count": null,
   "metadata": {},
   "outputs": [],
   "source": []
  }
 ],
 "metadata": {
  "kernelspec": {
   "display_name": "Python 3",
   "language": "python",
   "name": "python3"
  },
  "language_info": {
   "codemirror_mode": {
    "name": "ipython",
    "version": 3
   },
   "file_extension": ".py",
   "mimetype": "text/x-python",
   "name": "python",
   "nbconvert_exporter": "python",
   "pygments_lexer": "ipython3",
   "version": "3.8.8"
  }
 },
 "nbformat": 4,
 "nbformat_minor": 2
}
