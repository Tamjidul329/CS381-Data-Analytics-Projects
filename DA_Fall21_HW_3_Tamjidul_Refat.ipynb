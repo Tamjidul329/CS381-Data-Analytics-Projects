{
 "cells": [
  {
   "cell_type": "markdown",
   "metadata": {},
   "source": [
    "# DA_Fall21_HW_3 Support Vector Machine and Decision Trees\n",
    "\n",
    "# Due on 11/22 23:59 pm"
   ]
  },
  {
   "cell_type": "code",
   "execution_count": 99,
   "metadata": {},
   "outputs": [],
   "source": [
    "import pandas as pd\n",
    "import numpy as np\n",
    "import matplotlib.pyplot as plt\n",
    "import seaborn as sns\n",
    "import warnings\n",
    "import random\n",
    "warnings.filterwarnings('ignore')"
   ]
  },
  {
   "cell_type": "markdown",
   "metadata": {},
   "source": [
    "## We will use the same affair dataset from HW2, but will skip the EDA phrase we have done enough of it"
   ]
  },
  {
   "cell_type": "markdown",
   "metadata": {},
   "source": [
    "#### Everything removing outliers, create dummies variabes had been done for you"
   ]
  },
  {
   "cell_type": "code",
   "execution_count": 2,
   "metadata": {},
   "outputs": [
    {
     "data": {
      "text/plain": [
       "rate_marriage      0\n",
       "age                0\n",
       "yrs_married        0\n",
       "children           0\n",
       "religious          0\n",
       "educ               0\n",
       "occupation         0\n",
       "occupation_husb    0\n",
       "had_affair         0\n",
       "dtype: int64"
      ]
     },
     "execution_count": 2,
     "metadata": {},
     "output_type": "execute_result"
    }
   ],
   "source": [
    "# Remember the affair data set from HW3, we will use that dataset again\n",
    "# but we will directly load it from the API\n",
    "orig_df = pd.read_csv(\"affairs2.csv\")\n",
    "# Set up our target class label\n",
    "orig_df['had_affair'] = orig_df['affairs'].apply(lambda x: 1 if x != 0 else 0)\n",
    "orig_df = orig_df.drop('affairs',axis=1)\n",
    "# remove NA\n",
    "orig_df.dropna(inplace=True)\n",
    "# make sure there is no missing values\n",
    "orig_df.isnull().sum()"
   ]
  },
  {
   "cell_type": "code",
   "execution_count": 3,
   "metadata": {},
   "outputs": [
    {
     "data": {
      "text/html": [
       "<div>\n",
       "<style scoped>\n",
       "    .dataframe tbody tr th:only-of-type {\n",
       "        vertical-align: middle;\n",
       "    }\n",
       "\n",
       "    .dataframe tbody tr th {\n",
       "        vertical-align: top;\n",
       "    }\n",
       "\n",
       "    .dataframe thead th {\n",
       "        text-align: right;\n",
       "    }\n",
       "</style>\n",
       "<table border=\"1\" class=\"dataframe\">\n",
       "  <thead>\n",
       "    <tr style=\"text-align: right;\">\n",
       "      <th></th>\n",
       "      <th>age</th>\n",
       "      <th>yrs_married</th>\n",
       "      <th>children</th>\n",
       "      <th>had_affair</th>\n",
       "    </tr>\n",
       "  </thead>\n",
       "  <tbody>\n",
       "    <tr>\n",
       "      <th>0</th>\n",
       "      <td>32.0</td>\n",
       "      <td>9.0</td>\n",
       "      <td>3.0</td>\n",
       "      <td>1</td>\n",
       "    </tr>\n",
       "    <tr>\n",
       "      <th>1</th>\n",
       "      <td>27.0</td>\n",
       "      <td>13.0</td>\n",
       "      <td>3.0</td>\n",
       "      <td>1</td>\n",
       "    </tr>\n",
       "    <tr>\n",
       "      <th>2</th>\n",
       "      <td>22.0</td>\n",
       "      <td>2.5</td>\n",
       "      <td>0.0</td>\n",
       "      <td>1</td>\n",
       "    </tr>\n",
       "    <tr>\n",
       "      <th>3</th>\n",
       "      <td>37.0</td>\n",
       "      <td>16.5</td>\n",
       "      <td>4.0</td>\n",
       "      <td>1</td>\n",
       "    </tr>\n",
       "    <tr>\n",
       "      <th>4</th>\n",
       "      <td>27.0</td>\n",
       "      <td>9.0</td>\n",
       "      <td>1.0</td>\n",
       "      <td>1</td>\n",
       "    </tr>\n",
       "  </tbody>\n",
       "</table>\n",
       "</div>"
      ],
      "text/plain": [
       "    age  yrs_married  children  had_affair\n",
       "0  32.0          9.0       3.0           1\n",
       "1  27.0         13.0       3.0           1\n",
       "2  22.0          2.5       0.0           1\n",
       "3  37.0         16.5       4.0           1\n",
       "4  27.0          9.0       1.0           1"
      ]
     },
     "execution_count": 3,
     "metadata": {},
     "output_type": "execute_result"
    }
   ],
   "source": [
    "# separate the features into categorical vs numerical\n",
    "numerical_features = ['age', 'yrs_married', 'children']\n",
    "categorical_features = ['rate_marriage', 'religious', 'educ', 'occupation', 'occupation_husb']\n",
    "# collect all numerical features with the target variables first\n",
    "numerical_df = orig_df[numerical_features + ['had_affair']]\n",
    "numerical_df.head()"
   ]
  },
  {
   "cell_type": "code",
   "execution_count": 4,
   "metadata": {},
   "outputs": [],
   "source": [
    "# create corresponding dummies variables\n",
    "rate_marriage = pd.get_dummies(orig_df['rate_marriage'],drop_first=True)\n",
    "religious = pd.get_dummies(orig_df['religious'],drop_first=True)\n",
    "edu = pd.get_dummies(orig_df['educ'],drop_first=True)\n",
    "occ = pd.get_dummies(orig_df['occupation'],drop_first=True)\n",
    "husb_occ = pd.get_dummies(orig_df['occupation_husb'],drop_first=True)"
   ]
  },
  {
   "cell_type": "code",
   "execution_count": 5,
   "metadata": {},
   "outputs": [
    {
     "data": {
      "text/html": [
       "<div>\n",
       "<style scoped>\n",
       "    .dataframe tbody tr th:only-of-type {\n",
       "        vertical-align: middle;\n",
       "    }\n",
       "\n",
       "    .dataframe tbody tr th {\n",
       "        vertical-align: top;\n",
       "    }\n",
       "\n",
       "    .dataframe thead th {\n",
       "        text-align: right;\n",
       "    }\n",
       "</style>\n",
       "<table border=\"1\" class=\"dataframe\">\n",
       "  <thead>\n",
       "    <tr style=\"text-align: right;\">\n",
       "      <th></th>\n",
       "      <th>2.0</th>\n",
       "      <th>3.0</th>\n",
       "      <th>4.0</th>\n",
       "      <th>5.0</th>\n",
       "    </tr>\n",
       "  </thead>\n",
       "  <tbody>\n",
       "    <tr>\n",
       "      <th>0</th>\n",
       "      <td>0</td>\n",
       "      <td>1</td>\n",
       "      <td>0</td>\n",
       "      <td>0</td>\n",
       "    </tr>\n",
       "    <tr>\n",
       "      <th>1</th>\n",
       "      <td>0</td>\n",
       "      <td>1</td>\n",
       "      <td>0</td>\n",
       "      <td>0</td>\n",
       "    </tr>\n",
       "    <tr>\n",
       "      <th>2</th>\n",
       "      <td>0</td>\n",
       "      <td>0</td>\n",
       "      <td>1</td>\n",
       "      <td>0</td>\n",
       "    </tr>\n",
       "    <tr>\n",
       "      <th>3</th>\n",
       "      <td>0</td>\n",
       "      <td>0</td>\n",
       "      <td>1</td>\n",
       "      <td>0</td>\n",
       "    </tr>\n",
       "    <tr>\n",
       "      <th>4</th>\n",
       "      <td>0</td>\n",
       "      <td>0</td>\n",
       "      <td>0</td>\n",
       "      <td>1</td>\n",
       "    </tr>\n",
       "  </tbody>\n",
       "</table>\n",
       "</div>"
      ],
      "text/plain": [
       "   2.0  3.0  4.0  5.0\n",
       "0    0    1    0    0\n",
       "1    0    1    0    0\n",
       "2    0    0    1    0\n",
       "3    0    0    1    0\n",
       "4    0    0    0    1"
      ]
     },
     "execution_count": 5,
     "metadata": {},
     "output_type": "execute_result"
    }
   ],
   "source": [
    "rate_marriage.head()"
   ]
  },
  {
   "cell_type": "code",
   "execution_count": 6,
   "metadata": {},
   "outputs": [
    {
     "data": {
      "text/html": [
       "<div>\n",
       "<style scoped>\n",
       "    .dataframe tbody tr th:only-of-type {\n",
       "        vertical-align: middle;\n",
       "    }\n",
       "\n",
       "    .dataframe tbody tr th {\n",
       "        vertical-align: top;\n",
       "    }\n",
       "\n",
       "    .dataframe thead th {\n",
       "        text-align: right;\n",
       "    }\n",
       "</style>\n",
       "<table border=\"1\" class=\"dataframe\">\n",
       "  <thead>\n",
       "    <tr style=\"text-align: right;\">\n",
       "      <th></th>\n",
       "      <th>2.0</th>\n",
       "      <th>3.0</th>\n",
       "      <th>4.0</th>\n",
       "    </tr>\n",
       "  </thead>\n",
       "  <tbody>\n",
       "    <tr>\n",
       "      <th>0</th>\n",
       "      <td>0</td>\n",
       "      <td>1</td>\n",
       "      <td>0</td>\n",
       "    </tr>\n",
       "    <tr>\n",
       "      <th>1</th>\n",
       "      <td>0</td>\n",
       "      <td>0</td>\n",
       "      <td>0</td>\n",
       "    </tr>\n",
       "    <tr>\n",
       "      <th>2</th>\n",
       "      <td>0</td>\n",
       "      <td>0</td>\n",
       "      <td>0</td>\n",
       "    </tr>\n",
       "    <tr>\n",
       "      <th>3</th>\n",
       "      <td>0</td>\n",
       "      <td>1</td>\n",
       "      <td>0</td>\n",
       "    </tr>\n",
       "    <tr>\n",
       "      <th>4</th>\n",
       "      <td>0</td>\n",
       "      <td>0</td>\n",
       "      <td>0</td>\n",
       "    </tr>\n",
       "  </tbody>\n",
       "</table>\n",
       "</div>"
      ],
      "text/plain": [
       "   2.0  3.0  4.0\n",
       "0    0    1    0\n",
       "1    0    0    0\n",
       "2    0    0    0\n",
       "3    0    1    0\n",
       "4    0    0    0"
      ]
     },
     "execution_count": 6,
     "metadata": {},
     "output_type": "execute_result"
    }
   ],
   "source": [
    "religious.head()"
   ]
  },
  {
   "cell_type": "code",
   "execution_count": 7,
   "metadata": {},
   "outputs": [
    {
     "data": {
      "text/html": [
       "<div>\n",
       "<style scoped>\n",
       "    .dataframe tbody tr th:only-of-type {\n",
       "        vertical-align: middle;\n",
       "    }\n",
       "\n",
       "    .dataframe tbody tr th {\n",
       "        vertical-align: top;\n",
       "    }\n",
       "\n",
       "    .dataframe thead th {\n",
       "        text-align: right;\n",
       "    }\n",
       "</style>\n",
       "<table border=\"1\" class=\"dataframe\">\n",
       "  <thead>\n",
       "    <tr style=\"text-align: right;\">\n",
       "      <th></th>\n",
       "      <th>rate1</th>\n",
       "      <th>rate2</th>\n",
       "      <th>rate3</th>\n",
       "      <th>rate4</th>\n",
       "    </tr>\n",
       "  </thead>\n",
       "  <tbody>\n",
       "    <tr>\n",
       "      <th>0</th>\n",
       "      <td>0</td>\n",
       "      <td>1</td>\n",
       "      <td>0</td>\n",
       "      <td>0</td>\n",
       "    </tr>\n",
       "    <tr>\n",
       "      <th>1</th>\n",
       "      <td>0</td>\n",
       "      <td>1</td>\n",
       "      <td>0</td>\n",
       "      <td>0</td>\n",
       "    </tr>\n",
       "    <tr>\n",
       "      <th>2</th>\n",
       "      <td>0</td>\n",
       "      <td>0</td>\n",
       "      <td>1</td>\n",
       "      <td>0</td>\n",
       "    </tr>\n",
       "    <tr>\n",
       "      <th>3</th>\n",
       "      <td>0</td>\n",
       "      <td>0</td>\n",
       "      <td>1</td>\n",
       "      <td>0</td>\n",
       "    </tr>\n",
       "    <tr>\n",
       "      <th>4</th>\n",
       "      <td>0</td>\n",
       "      <td>0</td>\n",
       "      <td>0</td>\n",
       "      <td>1</td>\n",
       "    </tr>\n",
       "    <tr>\n",
       "      <th>...</th>\n",
       "      <td>...</td>\n",
       "      <td>...</td>\n",
       "      <td>...</td>\n",
       "      <td>...</td>\n",
       "    </tr>\n",
       "    <tr>\n",
       "      <th>6466</th>\n",
       "      <td>0</td>\n",
       "      <td>0</td>\n",
       "      <td>0</td>\n",
       "      <td>1</td>\n",
       "    </tr>\n",
       "    <tr>\n",
       "      <th>6467</th>\n",
       "      <td>0</td>\n",
       "      <td>0</td>\n",
       "      <td>1</td>\n",
       "      <td>0</td>\n",
       "    </tr>\n",
       "    <tr>\n",
       "      <th>6468</th>\n",
       "      <td>0</td>\n",
       "      <td>0</td>\n",
       "      <td>0</td>\n",
       "      <td>1</td>\n",
       "    </tr>\n",
       "    <tr>\n",
       "      <th>6469</th>\n",
       "      <td>0</td>\n",
       "      <td>0</td>\n",
       "      <td>0</td>\n",
       "      <td>1</td>\n",
       "    </tr>\n",
       "    <tr>\n",
       "      <th>6470</th>\n",
       "      <td>0</td>\n",
       "      <td>0</td>\n",
       "      <td>1</td>\n",
       "      <td>0</td>\n",
       "    </tr>\n",
       "  </tbody>\n",
       "</table>\n",
       "<p>6366 rows × 4 columns</p>\n",
       "</div>"
      ],
      "text/plain": [
       "      rate1  rate2  rate3  rate4\n",
       "0         0      1      0      0\n",
       "1         0      1      0      0\n",
       "2         0      0      1      0\n",
       "3         0      0      1      0\n",
       "4         0      0      0      1\n",
       "...     ...    ...    ...    ...\n",
       "6466      0      0      0      1\n",
       "6467      0      0      1      0\n",
       "6468      0      0      0      1\n",
       "6469      0      0      0      1\n",
       "6470      0      0      1      0\n",
       "\n",
       "[6366 rows x 4 columns]"
      ]
     },
     "execution_count": 7,
     "metadata": {},
     "output_type": "execute_result"
    }
   ],
   "source": [
    "# better to create a header to avoid same name\n",
    "rate_marriage.columns = ['rate1','rate2','rate3','rate4']\n",
    "rate_marriage"
   ]
  },
  {
   "cell_type": "code",
   "execution_count": 8,
   "metadata": {},
   "outputs": [
    {
     "data": {
      "text/html": [
       "<div>\n",
       "<style scoped>\n",
       "    .dataframe tbody tr th:only-of-type {\n",
       "        vertical-align: middle;\n",
       "    }\n",
       "\n",
       "    .dataframe tbody tr th {\n",
       "        vertical-align: top;\n",
       "    }\n",
       "\n",
       "    .dataframe thead th {\n",
       "        text-align: right;\n",
       "    }\n",
       "</style>\n",
       "<table border=\"1\" class=\"dataframe\">\n",
       "  <thead>\n",
       "    <tr style=\"text-align: right;\">\n",
       "      <th></th>\n",
       "      <th>re1</th>\n",
       "      <th>rel2</th>\n",
       "      <th>rel3</th>\n",
       "    </tr>\n",
       "  </thead>\n",
       "  <tbody>\n",
       "    <tr>\n",
       "      <th>0</th>\n",
       "      <td>0</td>\n",
       "      <td>1</td>\n",
       "      <td>0</td>\n",
       "    </tr>\n",
       "    <tr>\n",
       "      <th>1</th>\n",
       "      <td>0</td>\n",
       "      <td>0</td>\n",
       "      <td>0</td>\n",
       "    </tr>\n",
       "    <tr>\n",
       "      <th>2</th>\n",
       "      <td>0</td>\n",
       "      <td>0</td>\n",
       "      <td>0</td>\n",
       "    </tr>\n",
       "    <tr>\n",
       "      <th>3</th>\n",
       "      <td>0</td>\n",
       "      <td>1</td>\n",
       "      <td>0</td>\n",
       "    </tr>\n",
       "    <tr>\n",
       "      <th>4</th>\n",
       "      <td>0</td>\n",
       "      <td>0</td>\n",
       "      <td>0</td>\n",
       "    </tr>\n",
       "  </tbody>\n",
       "</table>\n",
       "</div>"
      ],
      "text/plain": [
       "   re1  rel2  rel3\n",
       "0    0     1     0\n",
       "1    0     0     0\n",
       "2    0     0     0\n",
       "3    0     1     0\n",
       "4    0     0     0"
      ]
     },
     "execution_count": 8,
     "metadata": {},
     "output_type": "execute_result"
    }
   ],
   "source": [
    "religious.columns = ['re1','rel2','rel3']\n",
    "religious.head()"
   ]
  },
  {
   "cell_type": "markdown",
   "metadata": {},
   "source": [
    "***Now we can concatnate the numerical features with rate_marriage and religious variabes***"
   ]
  },
  {
   "cell_type": "code",
   "execution_count": 9,
   "metadata": {},
   "outputs": [
    {
     "data": {
      "text/html": [
       "<div>\n",
       "<style scoped>\n",
       "    .dataframe tbody tr th:only-of-type {\n",
       "        vertical-align: middle;\n",
       "    }\n",
       "\n",
       "    .dataframe tbody tr th {\n",
       "        vertical-align: top;\n",
       "    }\n",
       "\n",
       "    .dataframe thead th {\n",
       "        text-align: right;\n",
       "    }\n",
       "</style>\n",
       "<table border=\"1\" class=\"dataframe\">\n",
       "  <thead>\n",
       "    <tr style=\"text-align: right;\">\n",
       "      <th></th>\n",
       "      <th>age</th>\n",
       "      <th>yrs_married</th>\n",
       "      <th>children</th>\n",
       "      <th>had_affair</th>\n",
       "      <th>rate1</th>\n",
       "      <th>rate2</th>\n",
       "      <th>rate3</th>\n",
       "      <th>rate4</th>\n",
       "      <th>re1</th>\n",
       "      <th>rel2</th>\n",
       "      <th>rel3</th>\n",
       "    </tr>\n",
       "  </thead>\n",
       "  <tbody>\n",
       "    <tr>\n",
       "      <th>0</th>\n",
       "      <td>32.0</td>\n",
       "      <td>9.0</td>\n",
       "      <td>3.0</td>\n",
       "      <td>1</td>\n",
       "      <td>0</td>\n",
       "      <td>1</td>\n",
       "      <td>0</td>\n",
       "      <td>0</td>\n",
       "      <td>0</td>\n",
       "      <td>1</td>\n",
       "      <td>0</td>\n",
       "    </tr>\n",
       "    <tr>\n",
       "      <th>1</th>\n",
       "      <td>27.0</td>\n",
       "      <td>13.0</td>\n",
       "      <td>3.0</td>\n",
       "      <td>1</td>\n",
       "      <td>0</td>\n",
       "      <td>1</td>\n",
       "      <td>0</td>\n",
       "      <td>0</td>\n",
       "      <td>0</td>\n",
       "      <td>0</td>\n",
       "      <td>0</td>\n",
       "    </tr>\n",
       "    <tr>\n",
       "      <th>2</th>\n",
       "      <td>22.0</td>\n",
       "      <td>2.5</td>\n",
       "      <td>0.0</td>\n",
       "      <td>1</td>\n",
       "      <td>0</td>\n",
       "      <td>0</td>\n",
       "      <td>1</td>\n",
       "      <td>0</td>\n",
       "      <td>0</td>\n",
       "      <td>0</td>\n",
       "      <td>0</td>\n",
       "    </tr>\n",
       "    <tr>\n",
       "      <th>3</th>\n",
       "      <td>37.0</td>\n",
       "      <td>16.5</td>\n",
       "      <td>4.0</td>\n",
       "      <td>1</td>\n",
       "      <td>0</td>\n",
       "      <td>0</td>\n",
       "      <td>1</td>\n",
       "      <td>0</td>\n",
       "      <td>0</td>\n",
       "      <td>1</td>\n",
       "      <td>0</td>\n",
       "    </tr>\n",
       "    <tr>\n",
       "      <th>4</th>\n",
       "      <td>27.0</td>\n",
       "      <td>9.0</td>\n",
       "      <td>1.0</td>\n",
       "      <td>1</td>\n",
       "      <td>0</td>\n",
       "      <td>0</td>\n",
       "      <td>0</td>\n",
       "      <td>1</td>\n",
       "      <td>0</td>\n",
       "      <td>0</td>\n",
       "      <td>0</td>\n",
       "    </tr>\n",
       "  </tbody>\n",
       "</table>\n",
       "</div>"
      ],
      "text/plain": [
       "    age  yrs_married  children  had_affair  rate1  rate2  rate3  rate4  re1  \\\n",
       "0  32.0          9.0       3.0           1      0      1      0      0    0   \n",
       "1  27.0         13.0       3.0           1      0      1      0      0    0   \n",
       "2  22.0          2.5       0.0           1      0      0      1      0    0   \n",
       "3  37.0         16.5       4.0           1      0      0      1      0    0   \n",
       "4  27.0          9.0       1.0           1      0      0      0      1    0   \n",
       "\n",
       "   rel2  rel3  \n",
       "0     1     0  \n",
       "1     0     0  \n",
       "2     0     0  \n",
       "3     1     0  \n",
       "4     0     0  "
      ]
     },
     "execution_count": 9,
     "metadata": {},
     "output_type": "execute_result"
    }
   ],
   "source": [
    "df = pd.concat([numerical_df, rate_marriage, religious], axis=1)\n",
    "df.head()"
   ]
  },
  {
   "cell_type": "markdown",
   "metadata": {},
   "source": [
    "### The goal of this homework is to practice building Support Vector Machine and Decision Tree Models."
   ]
  },
  {
   "cell_type": "markdown",
   "metadata": {},
   "source": [
    "### Part A: Support Vector Machine"
   ]
  },
  {
   "cell_type": "markdown",
   "metadata": {},
   "source": [
    "***Follow the standard way of building a model and in particular,***\n",
    "1. Build a classification model using SVC using Linear Kernel without specifying the c-parameter using the above provided data frame\n",
    "2. Try different values of C-parameters (at least one small and one bigger value)\n",
    "3. Try using rbf as your kernel and use Gamma of 2**-5, 0.1, 1 and 2 with default value for C-parameter\n",
    "4. Answer the question out of all the models above, what is the best choice for the kernel, C and gamma parameters\n",
    "Explain briefly the effect of using different parameter values\n"
   ]
  },
  {
   "cell_type": "markdown",
   "metadata": {},
   "source": [
    "***Type your answers and code here***"
   ]
  },
  {
   "cell_type": "markdown",
   "metadata": {},
   "source": [
    "1)"
   ]
  },
  {
   "cell_type": "code",
   "execution_count": 57,
   "metadata": {},
   "outputs": [
    {
     "data": {
      "text/html": [
       "<div>\n",
       "<style scoped>\n",
       "    .dataframe tbody tr th:only-of-type {\n",
       "        vertical-align: middle;\n",
       "    }\n",
       "\n",
       "    .dataframe tbody tr th {\n",
       "        vertical-align: top;\n",
       "    }\n",
       "\n",
       "    .dataframe thead th {\n",
       "        text-align: right;\n",
       "    }\n",
       "</style>\n",
       "<table border=\"1\" class=\"dataframe\">\n",
       "  <thead>\n",
       "    <tr style=\"text-align: right;\">\n",
       "      <th></th>\n",
       "      <th>had_affair</th>\n",
       "    </tr>\n",
       "  </thead>\n",
       "  <tbody>\n",
       "    <tr>\n",
       "      <th>had_affair</th>\n",
       "      <td>1.000000</td>\n",
       "    </tr>\n",
       "    <tr>\n",
       "      <th>rate2</th>\n",
       "      <td>0.210025</td>\n",
       "    </tr>\n",
       "    <tr>\n",
       "      <th>yrs_married</th>\n",
       "      <td>0.203109</td>\n",
       "    </tr>\n",
       "    <tr>\n",
       "      <th>rate1</th>\n",
       "      <td>0.160799</td>\n",
       "    </tr>\n",
       "    <tr>\n",
       "      <th>children</th>\n",
       "      <td>0.159833</td>\n",
       "    </tr>\n",
       "    <tr>\n",
       "      <th>age</th>\n",
       "      <td>0.146519</td>\n",
       "    </tr>\n",
       "    <tr>\n",
       "      <th>re1</th>\n",
       "      <td>0.061692</td>\n",
       "    </tr>\n",
       "    <tr>\n",
       "      <th>rate3</th>\n",
       "      <td>0.000681</td>\n",
       "    </tr>\n",
       "    <tr>\n",
       "      <th>rel2</th>\n",
       "      <td>-0.051279</td>\n",
       "    </tr>\n",
       "    <tr>\n",
       "      <th>rel3</th>\n",
       "      <td>-0.102310</td>\n",
       "    </tr>\n",
       "    <tr>\n",
       "      <th>rate4</th>\n",
       "      <td>-0.257633</td>\n",
       "    </tr>\n",
       "  </tbody>\n",
       "</table>\n",
       "</div>"
      ],
      "text/plain": [
       "             had_affair\n",
       "had_affair     1.000000\n",
       "rate2          0.210025\n",
       "yrs_married    0.203109\n",
       "rate1          0.160799\n",
       "children       0.159833\n",
       "age            0.146519\n",
       "re1            0.061692\n",
       "rate3          0.000681\n",
       "rel2          -0.051279\n",
       "rel3          -0.102310\n",
       "rate4         -0.257633"
      ]
     },
     "execution_count": 57,
     "metadata": {},
     "output_type": "execute_result"
    }
   ],
   "source": [
    "df.corr().filter(items=['had_affair']).sort_values('had_affair', ascending=False)"
   ]
  },
  {
   "cell_type": "code",
   "execution_count": 115,
   "metadata": {},
   "outputs": [],
   "source": [
    "from sklearn.model_selection import train_test_split\n",
    "X = df[['age','yrs_married','children','rate1','rate2','rate3','rate4','re1','rel2','rel3']].values\n",
    "Y = df['had_affair'].values\n",
    "X_train, X_test, Y_train, Y_test = train_test_split(X, Y, test_size=0.2, random_state=0)"
   ]
  },
  {
   "cell_type": "code",
   "execution_count": 116,
   "metadata": {},
   "outputs": [
    {
     "data": {
      "text/plain": [
       "SVC(kernel='linear')"
      ]
     },
     "execution_count": 116,
     "metadata": {},
     "output_type": "execute_result"
    }
   ],
   "source": [
    "from sklearn import svm\n",
    "model = svm.SVC(kernel='linear')\n",
    "model.fit(X_train, Y_train)"
   ]
  },
  {
   "cell_type": "code",
   "execution_count": 117,
   "metadata": {},
   "outputs": [
    {
     "data": {
      "text/plain": [
       "array([1, 1, 1, ..., 0, 0, 0], dtype=int64)"
      ]
     },
     "execution_count": 117,
     "metadata": {},
     "output_type": "execute_result"
    }
   ],
   "source": [
    "Y"
   ]
  },
  {
   "cell_type": "code",
   "execution_count": 119,
   "metadata": {},
   "outputs": [
    {
     "data": {
      "text/html": [
       "<div>\n",
       "<style scoped>\n",
       "    .dataframe tbody tr th:only-of-type {\n",
       "        vertical-align: middle;\n",
       "    }\n",
       "\n",
       "    .dataframe tbody tr th {\n",
       "        vertical-align: top;\n",
       "    }\n",
       "\n",
       "    .dataframe thead th {\n",
       "        text-align: right;\n",
       "    }\n",
       "</style>\n",
       "<table border=\"1\" class=\"dataframe\">\n",
       "  <thead>\n",
       "    <tr style=\"text-align: right;\">\n",
       "      <th></th>\n",
       "      <th>yrs_married</th>\n",
       "      <th>children</th>\n",
       "      <th>had_affair</th>\n",
       "    </tr>\n",
       "  </thead>\n",
       "  <tbody>\n",
       "    <tr>\n",
       "      <th>0</th>\n",
       "      <td>9.0</td>\n",
       "      <td>3.0</td>\n",
       "      <td>1</td>\n",
       "    </tr>\n",
       "    <tr>\n",
       "      <th>1</th>\n",
       "      <td>13.0</td>\n",
       "      <td>3.0</td>\n",
       "      <td>1</td>\n",
       "    </tr>\n",
       "    <tr>\n",
       "      <th>2</th>\n",
       "      <td>2.5</td>\n",
       "      <td>0.0</td>\n",
       "      <td>1</td>\n",
       "    </tr>\n",
       "    <tr>\n",
       "      <th>3</th>\n",
       "      <td>16.5</td>\n",
       "      <td>4.0</td>\n",
       "      <td>1</td>\n",
       "    </tr>\n",
       "    <tr>\n",
       "      <th>4</th>\n",
       "      <td>9.0</td>\n",
       "      <td>1.0</td>\n",
       "      <td>1</td>\n",
       "    </tr>\n",
       "    <tr>\n",
       "      <th>...</th>\n",
       "      <td>...</td>\n",
       "      <td>...</td>\n",
       "      <td>...</td>\n",
       "    </tr>\n",
       "    <tr>\n",
       "      <th>6466</th>\n",
       "      <td>13.0</td>\n",
       "      <td>2.0</td>\n",
       "      <td>0</td>\n",
       "    </tr>\n",
       "    <tr>\n",
       "      <th>6467</th>\n",
       "      <td>13.0</td>\n",
       "      <td>1.0</td>\n",
       "      <td>0</td>\n",
       "    </tr>\n",
       "    <tr>\n",
       "      <th>6468</th>\n",
       "      <td>2.5</td>\n",
       "      <td>0.0</td>\n",
       "      <td>0</td>\n",
       "    </tr>\n",
       "    <tr>\n",
       "      <th>6469</th>\n",
       "      <td>6.0</td>\n",
       "      <td>1.0</td>\n",
       "      <td>0</td>\n",
       "    </tr>\n",
       "    <tr>\n",
       "      <th>6470</th>\n",
       "      <td>2.5</td>\n",
       "      <td>0.0</td>\n",
       "      <td>0</td>\n",
       "    </tr>\n",
       "  </tbody>\n",
       "</table>\n",
       "<p>6366 rows × 3 columns</p>\n",
       "</div>"
      ],
      "text/plain": [
       "      yrs_married  children  had_affair\n",
       "0             9.0       3.0           1\n",
       "1            13.0       3.0           1\n",
       "2             2.5       0.0           1\n",
       "3            16.5       4.0           1\n",
       "4             9.0       1.0           1\n",
       "...           ...       ...         ...\n",
       "6466         13.0       2.0           0\n",
       "6467         13.0       1.0           0\n",
       "6468          2.5       0.0           0\n",
       "6469          6.0       1.0           0\n",
       "6470          2.5       0.0           0\n",
       "\n",
       "[6366 rows x 3 columns]"
      ]
     },
     "execution_count": 119,
     "metadata": {},
     "output_type": "execute_result"
    }
   ],
   "source": [
    "sdf = df[['yrs_married', 'children', 'had_affair']]\n",
    "sdf"
   ]
  },
  {
   "cell_type": "code",
   "execution_count": 63,
   "metadata": {},
   "outputs": [],
   "source": [
    "Y_pred = model.predict(X_test)"
   ]
  },
  {
   "cell_type": "code",
   "execution_count": 81,
   "metadata": {},
   "outputs": [
    {
     "name": "stdout",
     "output_type": "stream",
     "text": [
      "              precision    recall  f1-score   support\n",
      "\n",
      "           0       0.78      0.87      0.82       885\n",
      "           1       0.60      0.42      0.50       389\n",
      "\n",
      "    accuracy                           0.74      1274\n",
      "   macro avg       0.69      0.65      0.66      1274\n",
      "weighted avg       0.72      0.74      0.72      1274\n",
      "\n",
      "0.7362637362637363\n",
      "R-squared: -0.24341423031676213\n"
     ]
    }
   ],
   "source": [
    "from sklearn.metrics import classification_report,confusion_matrix,accuracy_score\n",
    "from sklearn import metrics\n",
    "\n",
    "print(classification_report(Y_test,Y_pred))\n",
    "print(model.score(X_test, Y_test))\n",
    "\n",
    "print('R-squared:', metrics.r2_score(Y_test, Y_pred))"
   ]
  },
  {
   "cell_type": "markdown",
   "metadata": {},
   "source": [
    "2)"
   ]
  },
  {
   "cell_type": "code",
   "execution_count": 89,
   "metadata": {},
   "outputs": [
    {
     "data": {
      "text/plain": [
       "SVC(C=32, kernel='linear')"
      ]
     },
     "execution_count": 89,
     "metadata": {},
     "output_type": "execute_result"
    }
   ],
   "source": [
    "model_big = svm.SVC(kernel='linear', C=2**5)\n",
    "model_big.fit(X_train, Y_train)"
   ]
  },
  {
   "cell_type": "code",
   "execution_count": 92,
   "metadata": {},
   "outputs": [],
   "source": [
    "Y_pred = model_big.predict(X_test)"
   ]
  },
  {
   "cell_type": "code",
   "execution_count": 93,
   "metadata": {},
   "outputs": [
    {
     "name": "stdout",
     "output_type": "stream",
     "text": [
      "              precision    recall  f1-score   support\n",
      "\n",
      "           0       0.78      0.87      0.82       885\n",
      "           1       0.60      0.42      0.50       389\n",
      "\n",
      "    accuracy                           0.74      1274\n",
      "   macro avg       0.69      0.65      0.66      1274\n",
      "weighted avg       0.72      0.74      0.72      1274\n",
      "\n",
      "0.7362637362637363\n",
      "R-squared: -0.24341423031676213\n"
     ]
    }
   ],
   "source": [
    "print(classification_report(Y_test,Y_pred))\n",
    "print(model_big.score(X_test, Y_test))\n",
    "\n",
    "print('R-squared:', metrics.r2_score(Y_test, Y_pred))"
   ]
  },
  {
   "cell_type": "code",
   "execution_count": 94,
   "metadata": {},
   "outputs": [
    {
     "data": {
      "text/plain": [
       "SVC(C=0.03125, kernel='linear')"
      ]
     },
     "execution_count": 94,
     "metadata": {},
     "output_type": "execute_result"
    }
   ],
   "source": [
    "model_small = svm.SVC(kernel='linear', C=2**(-5))\n",
    "model_small.fit(X_train, Y_train)"
   ]
  },
  {
   "cell_type": "code",
   "execution_count": 95,
   "metadata": {},
   "outputs": [],
   "source": [
    "Y_pred = model_small.predict(X_test)"
   ]
  },
  {
   "cell_type": "code",
   "execution_count": 96,
   "metadata": {},
   "outputs": [
    {
     "name": "stdout",
     "output_type": "stream",
     "text": [
      "              precision    recall  f1-score   support\n",
      "\n",
      "           0       0.78      0.87      0.82       885\n",
      "           1       0.60      0.42      0.50       389\n",
      "\n",
      "    accuracy                           0.74      1274\n",
      "   macro avg       0.69      0.65      0.66      1274\n",
      "weighted avg       0.72      0.74      0.72      1274\n",
      "\n",
      "0.7362637362637363\n",
      "R-squared: -0.24341423031676213\n"
     ]
    }
   ],
   "source": [
    "print(classification_report(Y_test,Y_pred))\n",
    "print(model_small.score(X_test, Y_test))\n",
    "\n",
    "print('R-squared:', metrics.r2_score(Y_test, Y_pred))"
   ]
  },
  {
   "cell_type": "markdown",
   "metadata": {},
   "source": [
    "3)"
   ]
  },
  {
   "cell_type": "code",
   "execution_count": 108,
   "metadata": {},
   "outputs": [],
   "source": [
    "gammas = [2**-5, 0.1 ,1 ,2]"
   ]
  },
  {
   "cell_type": "code",
   "execution_count": 109,
   "metadata": {},
   "outputs": [
    {
     "name": "stdout",
     "output_type": "stream",
     "text": [
      "---------------------------------------\n",
      "c: 1\tgamma: 0.03125\n",
      "\n",
      "[[793  64]\n",
      " [303 114]]\n",
      "              precision    recall  f1-score   support\n",
      "\n",
      "           0       0.72      0.93      0.81       857\n",
      "           1       0.64      0.27      0.38       417\n",
      "\n",
      "    accuracy                           0.71      1274\n",
      "   macro avg       0.68      0.60      0.60      1274\n",
      "weighted avg       0.70      0.71      0.67      1274\n",
      "\n",
      "Mean Absolute Error: 0.2880690737833595\n",
      "Mean Squared Error: 0.2880690737833595\n",
      "Root Mean Squared Error: 0.5367206664395917\n",
      "R-squared: -0.30833396293466975\n",
      "---------------------------------------\n",
      "c: 1\tgamma: 0.1\n",
      "\n",
      "[[783  89]\n",
      " [259 143]]\n",
      "              precision    recall  f1-score   support\n",
      "\n",
      "           0       0.75      0.90      0.82       872\n",
      "           1       0.62      0.36      0.45       402\n",
      "\n",
      "    accuracy                           0.73      1274\n",
      "   macro avg       0.68      0.63      0.63      1274\n",
      "weighted avg       0.71      0.73      0.70      1274\n",
      "\n",
      "Mean Absolute Error: 0.2731554160125589\n",
      "Mean Squared Error: 0.2731554160125589\n",
      "Root Mean Squared Error: 0.522642723103038\n",
      "R-squared: -0.2647542105983842\n",
      "---------------------------------------\n",
      "c: 1\tgamma: 1\n",
      "\n",
      "[[745 102]\n",
      " [280 147]]\n",
      "              precision    recall  f1-score   support\n",
      "\n",
      "           0       0.73      0.88      0.80       847\n",
      "           1       0.59      0.34      0.43       427\n",
      "\n",
      "    accuracy                           0.70      1274\n",
      "   macro avg       0.66      0.61      0.62      1274\n",
      "weighted avg       0.68      0.70      0.67      1274\n",
      "\n",
      "Mean Absolute Error: 0.29984301412872844\n",
      "Mean Squared Error: 0.29984301412872844\n",
      "Root Mean Squared Error: 0.5475792309143294\n",
      "R-squared: -0.345617125050806\n",
      "---------------------------------------\n",
      "c: 1\tgamma: 2\n",
      "\n",
      "[[740  88]\n",
      " [313 133]]\n",
      "              precision    recall  f1-score   support\n",
      "\n",
      "           0       0.70      0.89      0.79       828\n",
      "           1       0.60      0.30      0.40       446\n",
      "\n",
      "    accuracy                           0.69      1274\n",
      "   macro avg       0.65      0.60      0.59      1274\n",
      "weighted avg       0.67      0.69      0.65      1274\n",
      "\n",
      "Mean Absolute Error: 0.31475667189952905\n",
      "Mean Squared Error: 0.31475667189952905\n",
      "Root Mean Squared Error: 0.5610317922359918\n",
      "R-squared: -0.38340265592166545\n"
     ]
    },
    {
     "data": {
      "image/png": "[encoded data removed]",
      "text/plain": [
       "<Figure size 432x288 with 1 Axes>"
      ]
     },
     "metadata": {
      "needs_background": "light"
     },
     "output_type": "display_data"
    },
    {
     "data": {
      "image/png": "[encoded data removed]",
      "text/plain": [
       "<Figure size 432x288 with 1 Axes>"
      ]
     },
     "metadata": {
      "needs_background": "light"
     },
     "output_type": "display_data"
    },
    {
     "data": {
      "image/png": "[encoded data removed]",
      "text/plain": [
       "<Figure size 432x288 with 1 Axes>"
      ]
     },
     "metadata": {
      "needs_background": "light"
     },
     "output_type": "display_data"
    },
    {
     "data": {
      "image/png": "[encoded data removed]",
      "text/plain": [
       "<Figure size 432x288 with 1 Axes>"
      ]
     },
     "metadata": {
      "needs_background": "light"
     },
     "output_type": "display_data"
    }
   ],
   "source": [
    "for g in gammas:\n",
    "    svc = svm.SVC(kernel='rbf', probability=True, gamma=g)\n",
    "    svc.fit(X_train, Y_train)\n",
    "    Y_pred = svc.predict(X_test)\n",
    "    model.score(X_test, Y_test)\n",
    "    print('---------------------------------------')\n",
    "    print('c: 1' + '\\t' + 'gamma: ' +str(g) + '\\n')\n",
    "    model.score(X_test, Y_test)\n",
    "    print(confusion_matrix(Y_test, Y_pred))\n",
    "    print(classification_report(Y_test,Y_pred))\n",
    "    print('Mean Absolute Error:', metrics.mean_absolute_error(Y_test, Y_pred))\n",
    "    print('Mean Squared Error:', metrics.mean_squared_error(Y_test, Y_pred))\n",
    "    print('Root Mean Squared Error:', np.sqrt(metrics.mean_squared_error(Y_test, Y_pred)))\n",
    "    print('R-squared:', metrics.r2_score(Y_test, Y_pred))\n",
    "    rsquare = []\n",
    "    for i in range(10):\n",
    "        X_train, X_test, Y_train, Y_test = train_test_split(X, Y, test_size=0.2, random_state = random.randint(1,1000))\n",
    "        model = svm.SVC()\n",
    "        model.fit(X_train, Y_train)\n",
    "        Y_pred = model.predict(X_test)\n",
    "        rsquare.append(metrics.r2_score(Y_test, Y_pred))\n",
    "    \n",
    "    rdf = pd.DataFrame( {'trial': range(10), 'Rsquare': rsquare})\n",
    "    rdf.plot.bar(x='trial', y='Rsquare')"
   ]
  },
  {
   "cell_type": "markdown",
   "metadata": {},
   "source": [
    "4)"
   ]
  },
  {
   "cell_type": "markdown",
   "metadata": {},
   "source": [
    "Out of all the models, the one with a Linear Kernel and default C and gamma had the highest f1 scores for finding no affiars and finding an affair. However, the models show that finding out if someone had an affair is not accurate, whereas finding out if a woman does not commit an affiar is accurate. The accuracy for the latter is lowest with a rbf kernel and a gamma of 2**-5. "
   ]
  },
  {
   "cell_type": "markdown",
   "metadata": {},
   "source": [
    "### Part B: Now we will try to fit the same dataset with Decision Trees"
   ]
  },
  {
   "cell_type": "markdown",
   "metadata": {},
   "source": [
    "***Follow the standard way of building a model and in particular,***\n",
    "1. Build a Decision Tree Classifier\n",
    "2. Try using different max_depth = 2, 3, 4 and crierion = 'gini' and 'entropy' to build 6 different models\n",
    "3. Answer the question of what is your observation from step 2. Does the choice of the criterion important or not. What about max_depth? and What is the best choice of max_depth and criterion\n",
    "4. Pick 3 models with max_depth = 2, 3, 4 and. You can pick which ever criterions you want and visualize the 3 trees.\n",
    "5. Build a Random Forest Classifier with, say 100 trees. Comment on its model performance when compared with the individual trees models above\n"
   ]
  },
  {
   "cell_type": "markdown",
   "metadata": {},
   "source": [
    "***Type your code and answers here***"
   ]
  },
  {
   "cell_type": "markdown",
   "metadata": {},
   "source": [
    "1)"
   ]
  },
  {
   "cell_type": "code",
   "execution_count": 110,
   "metadata": {},
   "outputs": [
    {
     "data": {
      "text/plain": [
       "DecisionTreeClassifier()"
      ]
     },
     "execution_count": 110,
     "metadata": {},
     "output_type": "execute_result"
    }
   ],
   "source": [
    "from sklearn.tree import DecisionTreeClassifier\n",
    "modeltree = DecisionTreeClassifier()\n",
    "modeltree.fit(X_train,Y_train)"
   ]
  },
  {
   "cell_type": "markdown",
   "metadata": {},
   "source": [
    "2)"
   ]
  },
  {
   "cell_type": "code",
   "execution_count": 121,
   "metadata": {},
   "outputs": [],
   "source": [
    "depth = [2, 3, 4]\n",
    "crierion=['gini','entropy']"
   ]
  },
  {
   "cell_type": "code",
   "execution_count": 122,
   "metadata": {},
   "outputs": [
    {
     "name": "stdout",
     "output_type": "stream",
     "text": [
      "---------------------------------\n",
      "depth: 2\tcriterion: gini\n",
      "\n",
      "[[773 112]\n",
      " [224 165]]\n",
      "              precision    recall  f1-score   support\n",
      "\n",
      "           0       0.78      0.87      0.82       885\n",
      "           1       0.60      0.42      0.50       389\n",
      "\n",
      "    accuracy                           0.74      1274\n",
      "   macro avg       0.69      0.65      0.66      1274\n",
      "weighted avg       0.72      0.74      0.72      1274\n",
      "\n",
      "0.7362637362637363\n",
      "---------------------------------\n",
      "depth: 2\tcriterion: entropy\n",
      "\n",
      "[[773 112]\n",
      " [224 165]]\n",
      "              precision    recall  f1-score   support\n",
      "\n",
      "           0       0.78      0.87      0.82       885\n",
      "           1       0.60      0.42      0.50       389\n",
      "\n",
      "    accuracy                           0.74      1274\n",
      "   macro avg       0.69      0.65      0.66      1274\n",
      "weighted avg       0.72      0.74      0.72      1274\n",
      "\n",
      "0.7362637362637363\n",
      "---------------------------------\n",
      "depth: 3\tcriterion: gini\n",
      "\n",
      "[[818  67]\n",
      " [264 125]]\n",
      "              precision    recall  f1-score   support\n",
      "\n",
      "           0       0.76      0.92      0.83       885\n",
      "           1       0.65      0.32      0.43       389\n",
      "\n",
      "    accuracy                           0.74      1274\n",
      "   macro avg       0.70      0.62      0.63      1274\n",
      "weighted avg       0.72      0.74      0.71      1274\n",
      "\n",
      "0.7401883830455259\n",
      "---------------------------------\n",
      "depth: 3\tcriterion: entropy\n",
      "\n",
      "[[818  67]\n",
      " [264 125]]\n",
      "              precision    recall  f1-score   support\n",
      "\n",
      "           0       0.76      0.92      0.83       885\n",
      "           1       0.65      0.32      0.43       389\n",
      "\n",
      "    accuracy                           0.74      1274\n",
      "   macro avg       0.70      0.62      0.63      1274\n",
      "weighted avg       0.72      0.74      0.71      1274\n",
      "\n",
      "0.7401883830455259\n",
      "---------------------------------\n",
      "depth: 4\tcriterion: gini\n",
      "\n",
      "[[825  60]\n",
      " [273 116]]\n",
      "              precision    recall  f1-score   support\n",
      "\n",
      "           0       0.75      0.93      0.83       885\n",
      "           1       0.66      0.30      0.41       389\n",
      "\n",
      "    accuracy                           0.74      1274\n",
      "   macro avg       0.71      0.62      0.62      1274\n",
      "weighted avg       0.72      0.74      0.70      1274\n",
      "\n",
      "0.7386185243328101\n",
      "---------------------------------\n",
      "depth: 4\tcriterion: entropy\n",
      "\n",
      "[[825  60]\n",
      " [273 116]]\n",
      "              precision    recall  f1-score   support\n",
      "\n",
      "           0       0.75      0.93      0.83       885\n",
      "           1       0.66      0.30      0.41       389\n",
      "\n",
      "    accuracy                           0.74      1274\n",
      "   macro avg       0.71      0.62      0.62      1274\n",
      "weighted avg       0.72      0.74      0.70      1274\n",
      "\n",
      "0.7386185243328101\n"
     ]
    }
   ],
   "source": [
    "for d in depth:\n",
    "    for c in crierion:\n",
    "        modeltree = DecisionTreeClassifier(max_depth=d, criterion=c)\n",
    "        modeltree.fit(X_train,Y_train)\n",
    "        predictions = modeltree.predict(X_test)\n",
    "        print('---------------------------------')\n",
    "        print('depth: '+str(d) + '\\t' + 'criterion: ' + c +'\\n')\n",
    "        print(confusion_matrix(Y_test,predictions))\n",
    "        print(classification_report(Y_test,predictions))\n",
    "        print(accuracy_score(Y_test, predictions))"
   ]
  },
  {
   "cell_type": "markdown",
   "metadata": {},
   "source": [
    "3)"
   ]
  },
  {
   "cell_type": "markdown",
   "metadata": {},
   "source": [
    "The models have lower f1 scores overall as the depth increases. It is noteable that the f1 score for predicting no affair rises slightly with increased depth, but the f1 score for having an affair decreases by .1 from depth 2 to 4. There appears to be no importance in choosing the criterion in this case. Since there is no importance, gini is the better choice because it is less computational heavy and still yields similar results. A max depth of 2 will also suffice."
   ]
  },
  {
   "cell_type": "markdown",
   "metadata": {},
   "source": [
    "4)"
   ]
  },
  {
   "cell_type": "code",
   "execution_count": 131,
   "metadata": {},
   "outputs": [],
   "source": [
    "from sklearn import tree"
   ]
  },
  {
   "cell_type": "code",
   "execution_count": 132,
   "metadata": {},
   "outputs": [
    {
     "data": {
      "text/plain": [
       "DecisionTreeClassifier(max_depth=2)"
      ]
     },
     "execution_count": 132,
     "metadata": {},
     "output_type": "execute_result"
    }
   ],
   "source": [
    "model2 = DecisionTreeClassifier(max_depth=2, criterion='gini')\n",
    "model2.fit(X_train, Y_train)"
   ]
  },
  {
   "cell_type": "code",
   "execution_count": 133,
   "metadata": {},
   "outputs": [
    {
     "data": {
      "text/plain": [
       "[Text(167.4, 181.2, 'X[6] <= 0.5\\ngini = 0.44\\nsamples = 5092\\nvalue = [3428, 1664]'),\n",
       " Text(83.7, 108.72, 'X[5] <= 0.5\\ngini = 0.491\\nsamples = 2954\\nvalue = [1679, 1275]'),\n",
       " Text(41.85, 36.23999999999998, 'gini = 0.487\\nsamples = 1163\\nvalue = [486, 677]'),\n",
       " Text(125.55000000000001, 36.23999999999998, 'gini = 0.445\\nsamples = 1791\\nvalue = [1193, 598]'),\n",
       " Text(251.10000000000002, 108.72, 'X[1] <= 7.5\\ngini = 0.298\\nsamples = 2138\\nvalue = [1749, 389]'),\n",
       " Text(209.25, 36.23999999999998, 'gini = 0.217\\nsamples = 1277\\nvalue = [1119, 158]'),\n",
       " Text(292.95, 36.23999999999998, 'gini = 0.393\\nsamples = 861\\nvalue = [630, 231]')]"
      ]
     },
     "execution_count": 133,
     "metadata": {},
     "output_type": "execute_result"
    },
    {
     "data": {
      "image/png": "[encoded data removed]",
      "text/plain": [
       "<Figure size 432x288 with 1 Axes>"
      ]
     },
     "metadata": {
      "needs_background": "light"
     },
     "output_type": "display_data"
    }
   ],
   "source": [
    "tree.plot_tree(model2)"
   ]
  },
  {
   "cell_type": "code",
   "execution_count": 134,
   "metadata": {},
   "outputs": [
    {
     "data": {
      "text/plain": [
       "DecisionTreeClassifier(max_depth=3)"
      ]
     },
     "execution_count": 134,
     "metadata": {},
     "output_type": "execute_result"
    }
   ],
   "source": [
    "model3 = DecisionTreeClassifier(max_depth=3, criterion='gini')\n",
    "model3.fit(X_train, Y_train)"
   ]
  },
  {
   "cell_type": "code",
   "execution_count": 135,
   "metadata": {},
   "outputs": [
    {
     "data": {
      "text/plain": [
       "[Text(167.4, 190.26, 'X[6] <= 0.5\\ngini = 0.44\\nsamples = 5092\\nvalue = [3428, 1664]'),\n",
       " Text(83.7, 135.9, 'X[5] <= 0.5\\ngini = 0.491\\nsamples = 2954\\nvalue = [1679, 1275]'),\n",
       " Text(41.85, 81.53999999999999, 'X[1] <= 4.25\\ngini = 0.487\\nsamples = 1163\\nvalue = [486, 677]'),\n",
       " Text(20.925, 27.180000000000007, 'gini = 0.495\\nsamples = 302\\nvalue = [166, 136]'),\n",
       " Text(62.775000000000006, 27.180000000000007, 'gini = 0.467\\nsamples = 861\\nvalue = [320, 541]'),\n",
       " Text(125.55000000000001, 81.53999999999999, 'X[1] <= 4.25\\ngini = 0.445\\nsamples = 1791\\nvalue = [1193, 598]'),\n",
       " Text(104.625, 27.180000000000007, 'gini = 0.32\\nsamples = 664\\nvalue = [531, 133]'),\n",
       " Text(146.475, 27.180000000000007, 'gini = 0.485\\nsamples = 1127\\nvalue = [662, 465]'),\n",
       " Text(251.10000000000002, 135.9, 'X[1] <= 7.5\\ngini = 0.298\\nsamples = 2138\\nvalue = [1749, 389]'),\n",
       " Text(209.25, 81.53999999999999, 'X[1] <= 1.5\\ngini = 0.217\\nsamples = 1277\\nvalue = [1119, 158]'),\n",
       " Text(188.32500000000002, 27.180000000000007, 'gini = 0.0\\nsamples = 175\\nvalue = [175, 0]'),\n",
       " Text(230.175, 27.180000000000007, 'gini = 0.246\\nsamples = 1102\\nvalue = [944, 158]'),\n",
       " Text(292.95, 81.53999999999999, 'X[9] <= 0.5\\ngini = 0.393\\nsamples = 861\\nvalue = [630, 231]'),\n",
       " Text(272.02500000000003, 27.180000000000007, 'gini = 0.416\\nsamples = 715\\nvalue = [504, 211]'),\n",
       " Text(313.875, 27.180000000000007, 'gini = 0.236\\nsamples = 146\\nvalue = [126, 20]')]"
      ]
     },
     "execution_count": 135,
     "metadata": {},
     "output_type": "execute_result"
    },
    {
     "data": {
      "image/png": "[encoded data removed]",
      "text/plain": [
       "<Figure size 432x288 with 1 Axes>"
      ]
     },
     "metadata": {
      "needs_background": "light"
     },
     "output_type": "display_data"
    }
   ],
   "source": [
    "tree.plot_tree(model3)"
   ]
  },
  {
   "cell_type": "code",
   "execution_count": 136,
   "metadata": {},
   "outputs": [
    {
     "data": {
      "text/plain": [
       "DecisionTreeClassifier(max_depth=4)"
      ]
     },
     "execution_count": 136,
     "metadata": {},
     "output_type": "execute_result"
    }
   ],
   "source": [
    "model4 = DecisionTreeClassifier(max_depth=4, criterion='gini')\n",
    "model4.fit(X_train, Y_train)"
   ]
  },
  {
   "cell_type": "code",
   "execution_count": 137,
   "metadata": {},
   "outputs": [
    {
     "data": {
      "text/plain": [
       "[Text(170.3892857142857, 195.696, 'X[6] <= 0.5\\ngini = 0.44\\nsamples = 5092\\nvalue = [3428, 1664]'),\n",
       " Text(95.65714285714286, 152.208, 'X[5] <= 0.5\\ngini = 0.491\\nsamples = 2954\\nvalue = [1679, 1275]'),\n",
       " Text(47.82857142857143, 108.72, 'X[1] <= 4.25\\ngini = 0.487\\nsamples = 1163\\nvalue = [486, 677]'),\n",
       " Text(23.914285714285715, 65.232, 'X[1] <= 1.5\\ngini = 0.495\\nsamples = 302\\nvalue = [166, 136]'),\n",
       " Text(11.957142857142857, 21.744, 'gini = 0.298\\nsamples = 22\\nvalue = [18, 4]'),\n",
       " Text(35.871428571428574, 21.744, 'gini = 0.498\\nsamples = 280\\nvalue = [148, 132]'),\n",
       " Text(71.74285714285715, 65.232, 'X[9] <= 0.5\\ngini = 0.467\\nsamples = 861\\nvalue = [320, 541]'),\n",
       " Text(59.785714285714285, 21.744, 'gini = 0.459\\nsamples = 790\\nvalue = [282, 508]'),\n",
       " Text(83.7, 21.744, 'gini = 0.498\\nsamples = 71\\nvalue = [38, 33]'),\n",
       " Text(143.4857142857143, 108.72, 'X[1] <= 4.25\\ngini = 0.445\\nsamples = 1791\\nvalue = [1193, 598]'),\n",
       " Text(119.57142857142857, 65.232, 'X[2] <= 3.5\\ngini = 0.32\\nsamples = 664\\nvalue = [531, 133]'),\n",
       " Text(107.61428571428571, 21.744, 'gini = 0.317\\nsamples = 662\\nvalue = [531, 131]'),\n",
       " Text(131.52857142857144, 21.744, 'gini = 0.0\\nsamples = 2\\nvalue = [0, 2]'),\n",
       " Text(167.4, 65.232, 'X[1] <= 7.5\\ngini = 0.485\\nsamples = 1127\\nvalue = [662, 465]'),\n",
       " Text(155.44285714285715, 21.744, 'gini = 0.441\\nsamples = 345\\nvalue = [232, 113]'),\n",
       " Text(179.35714285714286, 21.744, 'gini = 0.495\\nsamples = 782\\nvalue = [430, 352]'),\n",
       " Text(245.12142857142857, 152.208, 'X[1] <= 7.5\\ngini = 0.298\\nsamples = 2138\\nvalue = [1749, 389]'),\n",
       " Text(203.27142857142857, 108.72, 'X[1] <= 1.5\\ngini = 0.217\\nsamples = 1277\\nvalue = [1119, 158]'),\n",
       " Text(191.31428571428572, 65.232, 'gini = 0.0\\nsamples = 175\\nvalue = [175, 0]'),\n",
       " Text(215.22857142857143, 65.232, 'X[9] <= 0.5\\ngini = 0.246\\nsamples = 1102\\nvalue = [944, 158]'),\n",
       " Text(203.27142857142857, 21.744, 'gini = 0.262\\nsamples = 979\\nvalue = [827, 152]'),\n",
       " Text(227.18571428571428, 21.744, 'gini = 0.093\\nsamples = 123\\nvalue = [117, 6]'),\n",
       " Text(286.9714285714286, 108.72, 'X[9] <= 0.5\\ngini = 0.393\\nsamples = 861\\nvalue = [630, 231]'),\n",
       " Text(263.0571428571429, 65.232, 'X[8] <= 0.5\\ngini = 0.416\\nsamples = 715\\nvalue = [504, 211]'),\n",
       " Text(251.1, 21.744, 'gini = 0.454\\nsamples = 350\\nvalue = [228, 122]'),\n",
       " Text(275.01428571428573, 21.744, 'gini = 0.369\\nsamples = 365\\nvalue = [276, 89]'),\n",
       " Text(310.8857142857143, 65.232, 'X[2] <= 1.5\\ngini = 0.236\\nsamples = 146\\nvalue = [126, 20]'),\n",
       " Text(298.92857142857144, 21.744, 'gini = 0.0\\nsamples = 19\\nvalue = [19, 0]'),\n",
       " Text(322.84285714285716, 21.744, 'gini = 0.265\\nsamples = 127\\nvalue = [107, 20]')]"
      ]
     },
     "execution_count": 137,
     "metadata": {},
     "output_type": "execute_result"
    },
    {
     "data": {
      "image/png": "[encoded data removed]",
      "text/plain": [
       "<Figure size 432x288 with 1 Axes>"
      ]
     },
     "metadata": {
      "needs_background": "light"
     },
     "output_type": "display_data"
    }
   ],
   "source": [
    "tree.plot_tree(model4)"
   ]
  },
  {
   "cell_type": "markdown",
   "metadata": {},
   "source": [
    "5)"
   ]
  },
  {
   "cell_type": "code",
   "execution_count": 139,
   "metadata": {},
   "outputs": [],
   "source": [
    "from sklearn.ensemble import RandomForestClassifier"
   ]
  },
  {
   "cell_type": "code",
   "execution_count": 140,
   "metadata": {},
   "outputs": [
    {
     "name": "stdout",
     "output_type": "stream",
     "text": [
      "              precision    recall  f1-score   support\n",
      "\n",
      "           0       0.76      0.86      0.80       885\n",
      "           1       0.54      0.39      0.45       389\n",
      "\n",
      "    accuracy                           0.71      1274\n",
      "   macro avg       0.65      0.62      0.63      1274\n",
      "weighted avg       0.69      0.71      0.70      1274\n",
      "\n",
      "0.7119309262166404\n",
      "[[825  60]\n",
      " [273 116]]\n"
     ]
    }
   ],
   "source": [
    "rfc = RandomForestClassifier(n_estimators=100)\n",
    "rfc.fit(X_train, Y_train)\n",
    "rfc_pred = rfc.predict(X_test)\n",
    "print(classification_report(Y_test, rfc_pred))\n",
    "print(accuracy_score(Y_test, rfc_pred))\n",
    "print(confusion_matrix(Y_test,predictions))"
   ]
  },
  {
   "cell_type": "markdown",
   "metadata": {},
   "source": [
    "The f1 scores and accuracy are about the same as the other models. However, it does not \"beat\" any of the other models in those categories, so it does not seem to be a better model."
   ]
  },
  {
   "cell_type": "markdown",
   "metadata": {},
   "source": [
    "### Part C: Now finally create a dataframe including all other categorical variable and build decision tree model"
   ]
  },
  {
   "cell_type": "code",
   "execution_count": 142,
   "metadata": {},
   "outputs": [
    {
     "data": {
      "text/html": [
       "<div>\n",
       "<style scoped>\n",
       "    .dataframe tbody tr th:only-of-type {\n",
       "        vertical-align: middle;\n",
       "    }\n",
       "\n",
       "    .dataframe tbody tr th {\n",
       "        vertical-align: top;\n",
       "    }\n",
       "\n",
       "    .dataframe thead th {\n",
       "        text-align: right;\n",
       "    }\n",
       "</style>\n",
       "<table border=\"1\" class=\"dataframe\">\n",
       "  <thead>\n",
       "    <tr style=\"text-align: right;\">\n",
       "      <th></th>\n",
       "      <th>occ2</th>\n",
       "      <th>occ3</th>\n",
       "      <th>occ4</th>\n",
       "      <th>occ5</th>\n",
       "      <th>occ6</th>\n",
       "    </tr>\n",
       "  </thead>\n",
       "  <tbody>\n",
       "    <tr>\n",
       "      <th>0</th>\n",
       "      <td>1</td>\n",
       "      <td>0</td>\n",
       "      <td>0</td>\n",
       "      <td>0</td>\n",
       "      <td>0</td>\n",
       "    </tr>\n",
       "    <tr>\n",
       "      <th>1</th>\n",
       "      <td>0</td>\n",
       "      <td>1</td>\n",
       "      <td>0</td>\n",
       "      <td>0</td>\n",
       "      <td>0</td>\n",
       "    </tr>\n",
       "    <tr>\n",
       "      <th>2</th>\n",
       "      <td>0</td>\n",
       "      <td>1</td>\n",
       "      <td>0</td>\n",
       "      <td>0</td>\n",
       "      <td>0</td>\n",
       "    </tr>\n",
       "    <tr>\n",
       "      <th>3</th>\n",
       "      <td>0</td>\n",
       "      <td>0</td>\n",
       "      <td>0</td>\n",
       "      <td>1</td>\n",
       "      <td>0</td>\n",
       "    </tr>\n",
       "    <tr>\n",
       "      <th>4</th>\n",
       "      <td>0</td>\n",
       "      <td>1</td>\n",
       "      <td>0</td>\n",
       "      <td>0</td>\n",
       "      <td>0</td>\n",
       "    </tr>\n",
       "  </tbody>\n",
       "</table>\n",
       "</div>"
      ],
      "text/plain": [
       "   occ2  occ3  occ4  occ5  occ6\n",
       "0     1     0     0     0     0\n",
       "1     0     1     0     0     0\n",
       "2     0     1     0     0     0\n",
       "3     0     0     0     1     0\n",
       "4     0     1     0     0     0"
      ]
     },
     "execution_count": 142,
     "metadata": {},
     "output_type": "execute_result"
    }
   ],
   "source": [
    "occ.head()"
   ]
  },
  {
   "cell_type": "code",
   "execution_count": 141,
   "metadata": {},
   "outputs": [
    {
     "data": {
      "text/html": [
       "<div>\n",
       "<style scoped>\n",
       "    .dataframe tbody tr th:only-of-type {\n",
       "        vertical-align: middle;\n",
       "    }\n",
       "\n",
       "    .dataframe tbody tr th {\n",
       "        vertical-align: top;\n",
       "    }\n",
       "\n",
       "    .dataframe thead th {\n",
       "        text-align: right;\n",
       "    }\n",
       "</style>\n",
       "<table border=\"1\" class=\"dataframe\">\n",
       "  <thead>\n",
       "    <tr style=\"text-align: right;\">\n",
       "      <th></th>\n",
       "      <th>2.0</th>\n",
       "      <th>3.0</th>\n",
       "      <th>4.0</th>\n",
       "      <th>5.0</th>\n",
       "      <th>6.0</th>\n",
       "    </tr>\n",
       "  </thead>\n",
       "  <tbody>\n",
       "    <tr>\n",
       "      <th>0</th>\n",
       "      <td>0</td>\n",
       "      <td>0</td>\n",
       "      <td>0</td>\n",
       "      <td>1</td>\n",
       "      <td>0</td>\n",
       "    </tr>\n",
       "    <tr>\n",
       "      <th>1</th>\n",
       "      <td>0</td>\n",
       "      <td>0</td>\n",
       "      <td>1</td>\n",
       "      <td>0</td>\n",
       "      <td>0</td>\n",
       "    </tr>\n",
       "    <tr>\n",
       "      <th>2</th>\n",
       "      <td>0</td>\n",
       "      <td>0</td>\n",
       "      <td>0</td>\n",
       "      <td>1</td>\n",
       "      <td>0</td>\n",
       "    </tr>\n",
       "    <tr>\n",
       "      <th>3</th>\n",
       "      <td>0</td>\n",
       "      <td>0</td>\n",
       "      <td>0</td>\n",
       "      <td>1</td>\n",
       "      <td>0</td>\n",
       "    </tr>\n",
       "    <tr>\n",
       "      <th>4</th>\n",
       "      <td>0</td>\n",
       "      <td>0</td>\n",
       "      <td>1</td>\n",
       "      <td>0</td>\n",
       "      <td>0</td>\n",
       "    </tr>\n",
       "  </tbody>\n",
       "</table>\n",
       "</div>"
      ],
      "text/plain": [
       "   2.0  3.0  4.0  5.0  6.0\n",
       "0    0    0    0    1    0\n",
       "1    0    0    1    0    0\n",
       "2    0    0    0    1    0\n",
       "3    0    0    0    1    0\n",
       "4    0    0    1    0    0"
      ]
     },
     "execution_count": 141,
     "metadata": {},
     "output_type": "execute_result"
    }
   ],
   "source": [
    "husb_occ.head()"
   ]
  },
  {
   "cell_type": "code",
   "execution_count": 145,
   "metadata": {},
   "outputs": [
    {
     "data": {
      "text/plain": [
       "Index(['age', 'yrs_married', 'children', 'had_affair', 'rate1', 'rate2',\n",
       "       'rate3', 'rate4', 're1', 'rel2', 'rel3', 'edu1', 'edu2', 'edu3', 'edu4',\n",
       "       'edu5', 'occ1', 'occ2', 'occ3', 'occ4', 'occ5', 'h_occ1', 'h_occ2',\n",
       "       'h_occ3', 'h_occ4', 'h_occ5'],\n",
       "      dtype='object')"
      ]
     },
     "execution_count": 145,
     "metadata": {},
     "output_type": "execute_result"
    }
   ],
   "source": [
    "# Type your code here, fill in the missing code here\n",
    "\n",
    "edu.columns = ['edu1','edu2','edu3','edu4','edu5']\n",
    "occ.columns = ['occ1','occ2','occ3','occ4','occ5']\n",
    "husb_occ.columns = ['h_occ1','h_occ2','h_occ3','h_occ4','h_occ5']\n",
    "# ...\n",
    "\n",
    "df2 = pd.concat([df, edu, occ, husb_occ], axis = 1)\n",
    "\n",
    "df2.columns"
   ]
  },
  {
   "cell_type": "code",
   "execution_count": 146,
   "metadata": {},
   "outputs": [
    {
     "data": {
      "text/html": [
       "<div>\n",
       "<style scoped>\n",
       "    .dataframe tbody tr th:only-of-type {\n",
       "        vertical-align: middle;\n",
       "    }\n",
       "\n",
       "    .dataframe tbody tr th {\n",
       "        vertical-align: top;\n",
       "    }\n",
       "\n",
       "    .dataframe thead th {\n",
       "        text-align: right;\n",
       "    }\n",
       "</style>\n",
       "<table border=\"1\" class=\"dataframe\">\n",
       "  <thead>\n",
       "    <tr style=\"text-align: right;\">\n",
       "      <th></th>\n",
       "      <th>age</th>\n",
       "      <th>yrs_married</th>\n",
       "      <th>children</th>\n",
       "      <th>had_affair</th>\n",
       "      <th>rate1</th>\n",
       "      <th>rate2</th>\n",
       "      <th>rate3</th>\n",
       "      <th>rate4</th>\n",
       "      <th>re1</th>\n",
       "      <th>rel2</th>\n",
       "      <th>...</th>\n",
       "      <th>occ1</th>\n",
       "      <th>occ2</th>\n",
       "      <th>occ3</th>\n",
       "      <th>occ4</th>\n",
       "      <th>occ5</th>\n",
       "      <th>h_occ1</th>\n",
       "      <th>h_occ2</th>\n",
       "      <th>h_occ3</th>\n",
       "      <th>h_occ4</th>\n",
       "      <th>h_occ5</th>\n",
       "    </tr>\n",
       "  </thead>\n",
       "  <tbody>\n",
       "    <tr>\n",
       "      <th>0</th>\n",
       "      <td>32.0</td>\n",
       "      <td>9.0</td>\n",
       "      <td>3.0</td>\n",
       "      <td>1</td>\n",
       "      <td>0</td>\n",
       "      <td>1</td>\n",
       "      <td>0</td>\n",
       "      <td>0</td>\n",
       "      <td>0</td>\n",
       "      <td>1</td>\n",
       "      <td>...</td>\n",
       "      <td>1</td>\n",
       "      <td>0</td>\n",
       "      <td>0</td>\n",
       "      <td>0</td>\n",
       "      <td>0</td>\n",
       "      <td>0</td>\n",
       "      <td>0</td>\n",
       "      <td>0</td>\n",
       "      <td>1</td>\n",
       "      <td>0</td>\n",
       "    </tr>\n",
       "    <tr>\n",
       "      <th>1</th>\n",
       "      <td>27.0</td>\n",
       "      <td>13.0</td>\n",
       "      <td>3.0</td>\n",
       "      <td>1</td>\n",
       "      <td>0</td>\n",
       "      <td>1</td>\n",
       "      <td>0</td>\n",
       "      <td>0</td>\n",
       "      <td>0</td>\n",
       "      <td>0</td>\n",
       "      <td>...</td>\n",
       "      <td>0</td>\n",
       "      <td>1</td>\n",
       "      <td>0</td>\n",
       "      <td>0</td>\n",
       "      <td>0</td>\n",
       "      <td>0</td>\n",
       "      <td>0</td>\n",
       "      <td>1</td>\n",
       "      <td>0</td>\n",
       "      <td>0</td>\n",
       "    </tr>\n",
       "    <tr>\n",
       "      <th>2</th>\n",
       "      <td>22.0</td>\n",
       "      <td>2.5</td>\n",
       "      <td>0.0</td>\n",
       "      <td>1</td>\n",
       "      <td>0</td>\n",
       "      <td>0</td>\n",
       "      <td>1</td>\n",
       "      <td>0</td>\n",
       "      <td>0</td>\n",
       "      <td>0</td>\n",
       "      <td>...</td>\n",
       "      <td>0</td>\n",
       "      <td>1</td>\n",
       "      <td>0</td>\n",
       "      <td>0</td>\n",
       "      <td>0</td>\n",
       "      <td>0</td>\n",
       "      <td>0</td>\n",
       "      <td>0</td>\n",
       "      <td>1</td>\n",
       "      <td>0</td>\n",
       "    </tr>\n",
       "    <tr>\n",
       "      <th>3</th>\n",
       "      <td>37.0</td>\n",
       "      <td>16.5</td>\n",
       "      <td>4.0</td>\n",
       "      <td>1</td>\n",
       "      <td>0</td>\n",
       "      <td>0</td>\n",
       "      <td>1</td>\n",
       "      <td>0</td>\n",
       "      <td>0</td>\n",
       "      <td>1</td>\n",
       "      <td>...</td>\n",
       "      <td>0</td>\n",
       "      <td>0</td>\n",
       "      <td>0</td>\n",
       "      <td>1</td>\n",
       "      <td>0</td>\n",
       "      <td>0</td>\n",
       "      <td>0</td>\n",
       "      <td>0</td>\n",
       "      <td>1</td>\n",
       "      <td>0</td>\n",
       "    </tr>\n",
       "    <tr>\n",
       "      <th>4</th>\n",
       "      <td>27.0</td>\n",
       "      <td>9.0</td>\n",
       "      <td>1.0</td>\n",
       "      <td>1</td>\n",
       "      <td>0</td>\n",
       "      <td>0</td>\n",
       "      <td>0</td>\n",
       "      <td>1</td>\n",
       "      <td>0</td>\n",
       "      <td>0</td>\n",
       "      <td>...</td>\n",
       "      <td>0</td>\n",
       "      <td>1</td>\n",
       "      <td>0</td>\n",
       "      <td>0</td>\n",
       "      <td>0</td>\n",
       "      <td>0</td>\n",
       "      <td>0</td>\n",
       "      <td>1</td>\n",
       "      <td>0</td>\n",
       "      <td>0</td>\n",
       "    </tr>\n",
       "  </tbody>\n",
       "</table>\n",
       "<p>5 rows × 26 columns</p>\n",
       "</div>"
      ],
      "text/plain": [
       "    age  yrs_married  children  had_affair  rate1  rate2  rate3  rate4  re1  \\\n",
       "0  32.0          9.0       3.0           1      0      1      0      0    0   \n",
       "1  27.0         13.0       3.0           1      0      1      0      0    0   \n",
       "2  22.0          2.5       0.0           1      0      0      1      0    0   \n",
       "3  37.0         16.5       4.0           1      0      0      1      0    0   \n",
       "4  27.0          9.0       1.0           1      0      0      0      1    0   \n",
       "\n",
       "   rel2  ...  occ1  occ2  occ3  occ4  occ5  h_occ1  h_occ2  h_occ3  h_occ4  \\\n",
       "0     1  ...     1     0     0     0     0       0       0       0       1   \n",
       "1     0  ...     0     1     0     0     0       0       0       1       0   \n",
       "2     0  ...     0     1     0     0     0       0       0       0       1   \n",
       "3     1  ...     0     0     0     1     0       0       0       0       1   \n",
       "4     0  ...     0     1     0     0     0       0       0       1       0   \n",
       "\n",
       "   h_occ5  \n",
       "0       0  \n",
       "1       0  \n",
       "2       0  \n",
       "3       0  \n",
       "4       0  \n",
       "\n",
       "[5 rows x 26 columns]"
      ]
     },
     "execution_count": 146,
     "metadata": {},
     "output_type": "execute_result"
    }
   ],
   "source": [
    "df2.head()"
   ]
  },
  {
   "cell_type": "markdown",
   "metadata": {},
   "source": [
    "***Use the same model as in Part B step 1 with this new dataframe. Comment on whether the additional variables help the model performance or not***"
   ]
  },
  {
   "cell_type": "markdown",
   "metadata": {},
   "source": [
    "***Type your code and answers here***"
   ]
  },
  {
   "cell_type": "code",
   "execution_count": 147,
   "metadata": {},
   "outputs": [],
   "source": [
    "X = df2.drop('had_affair', axis = 1)\n",
    "Y = df2['had_affair'].values\n",
    "X_train, X_test, Y_train, Y_test = train_test_split(X, Y, test_size=0.2, random_state=0)"
   ]
  },
  {
   "cell_type": "code",
   "execution_count": 148,
   "metadata": {},
   "outputs": [
    {
     "data": {
      "text/plain": [
       "DecisionTreeClassifier()"
      ]
     },
     "execution_count": 148,
     "metadata": {},
     "output_type": "execute_result"
    }
   ],
   "source": [
    "modeldf2 = DecisionTreeClassifier()\n",
    "modeldf2.fit(X_train,Y_train)"
   ]
  },
  {
   "cell_type": "code",
   "execution_count": 149,
   "metadata": {},
   "outputs": [
    {
     "name": "stdout",
     "output_type": "stream",
     "text": [
      "[[681 204]\n",
      " [230 159]]\n",
      "              precision    recall  f1-score   support\n",
      "\n",
      "           0       0.75      0.77      0.76       885\n",
      "           1       0.44      0.41      0.42       389\n",
      "\n",
      "    accuracy                           0.66      1274\n",
      "   macro avg       0.59      0.59      0.59      1274\n",
      "weighted avg       0.65      0.66      0.66      1274\n",
      "\n",
      "0.6593406593406593\n"
     ]
    }
   ],
   "source": [
    "predictions = modeldf2.predict(X_test)\n",
    "\n",
    "print(confusion_matrix(Y_test,predictions))\n",
    "print(classification_report(Y_test,predictions))\n",
    "print(accuracy_score(Y_test, predictions))"
   ]
  },
  {
   "cell_type": "markdown",
   "metadata": {},
   "source": [
    "The added variables did not help the model performance. The f1 scores are lower in this model after adding in the other variables."
   ]
  }
 ],
 "metadata": {
  "kernelspec": {
   "display_name": "Python 3",
   "language": "python",
   "name": "python3"
  },
  "language_info": {
   "codemirror_mode": {
    "name": "ipython",
    "version": 3
   },
   "file_extension": ".py",
   "mimetype": "text/x-python",
   "name": "python",
   "nbconvert_exporter": "python",
   "pygments_lexer": "ipython3",
   "version": "3.8.8"
  }
 },
 "nbformat": 4,
 "nbformat_minor": 2
}
